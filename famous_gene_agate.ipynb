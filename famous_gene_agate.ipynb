{
 "cells": [
  {
   "cell_type": "code",
   "execution_count": 19,
   "metadata": {},
   "outputs": [],
   "source": [
    "import agate"
   ]
  },
  {
   "cell_type": "code",
   "execution_count": 20,
   "metadata": {
    "collapsed": true
   },
   "outputs": [],
   "source": [
    "table = agate.Table.from_csv('test_gene2pubmed', delimiter='\\t')"
   ]
  },
  {
   "cell_type": "code",
   "execution_count": 21,
   "metadata": {},
   "outputs": [
    {
     "name": "stdout",
     "output_type": "stream",
     "text": [
      "| column    | data_type |\n",
      "| --------- | --------- |\n",
      "| #tax_id   | Number    |\n",
      "| GeneID    | Number    |\n",
      "| PubMed_ID | Number    |\n",
      "\n"
     ]
    }
   ],
   "source": [
    "print(table)"
   ]
  },
  {
   "cell_type": "markdown",
   "metadata": {},
   "source": [
    "The data is numeric, but we want it read as categorical, because these are ID's."
   ]
  },
  {
   "cell_type": "code",
   "execution_count": 22,
   "metadata": {},
   "outputs": [],
   "source": [
    "tester = agate.TypeTester(force={\n",
    "    '#tax_id': agate.Text(),\n",
    "    'GeneID': agate.Text(),\n",
    "    'PubMed_ID': agate.Text()\n",
    "})\n",
    "\n",
    "table = agate.Table.from_csv('test_gene2pubmed', delimiter='\\t', column_types=tester)"
   ]
  },
  {
   "cell_type": "code",
   "execution_count": 23,
   "metadata": {
    "collapsed": true
   },
   "outputs": [
    {
     "name": "stdout",
     "output_type": "stream",
     "text": [
      "| column    | data_type |\n",
      "| --------- | --------- |\n",
      "| #tax_id   | Text      |\n",
      "| GeneID    | Text      |\n",
      "| PubMed_ID | Text      |\n",
      "\n"
     ]
    }
   ],
   "source": [
    "print(table)"
   ]
  },
  {
   "cell_type": "code",
   "execution_count": 14,
   "metadata": {},
   "outputs": [
    {
     "name": "stdout",
     "output_type": "stream",
     "text": [
      "GeneID                     Count\n",
      "[0 - 4,000,000)           14,538 ▓░░░░░░░░░░░░░░░░░░░░░░░░░░░░░░░░░░░░░░░░░░                                            \n",
      "[4,000,000 - 8,000,000)   16,317 ▓░░░░░░░░░░░░░░░░░░░░░░░░░░░░░░░░░░░░░░░░░░░░░░░                                       \n",
      "[8,000,000 - 12,000,000)   5,219 ▓░░░░░░░░░░░░░░░                                                                       \n",
      "[12,000,000 - 16,000,000)  9,097 ▓░░░░░░░░░░░░░░░░░░░░░░░░░░                                                            \n",
      "[16,000,000 - 20,000,000)  5,517 ▓░░░░░░░░░░░░░░░░                                                                      \n",
      "[20,000,000 - 24,000,000)  5,834 ▓░░░░░░░░░░░░░░░░░                                                                     \n",
      "[24,000,000 - 28,000,000)     69 ▓                                                                                      \n",
      "[28,000,000 - 32,000,000) 26,993 ▓░░░░░░░░░░░░░░░░░░░░░░░░░░░░░░░░░░░░░░░░░░░░░░░░░░░░░░░░░░░░░░░░░░░░░░░░░░░░░         \n",
      "[32,000,000 - 36,000,000) 16,415 ▓░░░░░░░░░░░░░░░░░░░░░░░░░░░░░░░░░░░░░░░░░░░░░░░                                       \n",
      "                                 +---------------------+--------------------+--------------------+---------------------+\n",
      "                                 0                   7,500               15,000               22,500              30,000\n"
     ]
    }
   ],
   "source": [
    "#table_bins = table.bins('GeneID')\n",
    "#table_bins.print_bars('GeneID','Count')"
   ]
  },
  {
   "cell_type": "markdown",
   "metadata": {},
   "source": [
    "**Q** What Gene is associated by most publications ?"
   ]
  },
  {
   "cell_type": "code",
   "execution_count": 34,
   "metadata": {},
   "outputs": [
    {
     "name": "stdout",
     "output_type": "stream",
     "text": [
      "| PubMed_ID | 1246500 | 1246501 | 1246502 | 1246503 | 1246504 | ... |\n",
      "| --------- | ------- | ------- | ------- | ------- | ------- | --- |\n",
      "| 9873079   |       1 |       1 |       1 |       1 |       1 | ... |\n",
      "| 9812361   |       0 |       0 |       1 |       0 |       0 | ... |\n",
      "| 10984505  |       0 |       0 |       0 |       0 |       0 | ... |\n",
      "| 7608990   |       0 |       0 |       0 |       0 |       0 | ... |\n",
      "| 16413149  |       0 |       0 |       0 |       0 |       0 | ... |\n",
      "| ...       |     ... |     ... |     ... |     ... |     ... | ... |\n"
     ]
    }
   ],
   "source": [
    "geneId_dist = (table.pivot('PubMed_ID', 'GeneID' ))\n",
    "#geneId_dist = geneId_dist.order_by('Count', reverse=True)\n",
    "geneId_dist.print_table(max_rows=5)"
   ]
  },
  {
   "cell_type": "code",
   "execution_count": 70,
   "metadata": {},
   "outputs": [],
   "source": [
    "import pandas as pd\n",
    "gene2pubmed = pd.read_table(\"test_gene2pubmed\", sep = \"\\t\")\n",
    "#gene2pubmed = pd.read_table(\"data/genbank-data/gene2pubmed\", sep = \"\\t\")\n",
    "#gene2pubmed.groupby(['GeneID'])['PubMed_ID'].count().head(n=10) # can we sort this to get a better idea ?"
   ]
  },
  {
   "cell_type": "code",
   "execution_count": 68,
   "metadata": {},
   "outputs": [
    {
     "data": {
      "text/html": [
       "<div>\n",
       "<style scoped>\n",
       "    .dataframe tbody tr th:only-of-type {\n",
       "        vertical-align: middle;\n",
       "    }\n",
       "\n",
       "    .dataframe tbody tr th {\n",
       "        vertical-align: top;\n",
       "    }\n",
       "\n",
       "    .dataframe thead th {\n",
       "        text-align: right;\n",
       "    }\n",
       "</style>\n",
       "<table border=\"1\" class=\"dataframe\">\n",
       "  <thead>\n",
       "    <tr style=\"text-align: right;\">\n",
       "      <th></th>\n",
       "      <th>GeneID</th>\n",
       "      <th>PubMed_ID</th>\n",
       "    </tr>\n",
       "  </thead>\n",
       "  <tbody>\n",
       "    <tr>\n",
       "      <th>0</th>\n",
       "      <td>1</td>\n",
       "      <td>32</td>\n",
       "    </tr>\n",
       "    <tr>\n",
       "      <th>1</th>\n",
       "      <td>2</td>\n",
       "      <td>244</td>\n",
       "    </tr>\n",
       "    <tr>\n",
       "      <th>2</th>\n",
       "      <td>3</td>\n",
       "      <td>6</td>\n",
       "    </tr>\n",
       "    <tr>\n",
       "      <th>3</th>\n",
       "      <td>9</td>\n",
       "      <td>230</td>\n",
       "    </tr>\n",
       "    <tr>\n",
       "      <th>4</th>\n",
       "      <td>10</td>\n",
       "      <td>664</td>\n",
       "    </tr>\n",
       "    <tr>\n",
       "      <th>5</th>\n",
       "      <td>11</td>\n",
       "      <td>5</td>\n",
       "    </tr>\n",
       "    <tr>\n",
       "      <th>6</th>\n",
       "      <td>12</td>\n",
       "      <td>184</td>\n",
       "    </tr>\n",
       "    <tr>\n",
       "      <th>7</th>\n",
       "      <td>13</td>\n",
       "      <td>23</td>\n",
       "    </tr>\n",
       "    <tr>\n",
       "      <th>8</th>\n",
       "      <td>14</td>\n",
       "      <td>32</td>\n",
       "    </tr>\n",
       "    <tr>\n",
       "      <th>9</th>\n",
       "      <td>15</td>\n",
       "      <td>38</td>\n",
       "    </tr>\n",
       "  </tbody>\n",
       "</table>\n",
       "</div>"
      ],
      "text/plain": [
       "   GeneID  PubMed_ID\n",
       "0       1         32\n",
       "1       2        244\n",
       "2       3          6\n",
       "3       9        230\n",
       "4      10        664\n",
       "5      11          5\n",
       "6      12        184\n",
       "7      13         23\n",
       "8      14         32\n",
       "9      15         38"
      ]
     },
     "execution_count": 68,
     "metadata": {},
     "output_type": "execute_result"
    }
   ],
   "source": [
    "gene_gp_pubmedCount = gene2pubmed.groupby('GeneID', as_index=False)['PubMed_ID'].count() # because pandas preserves the row index and we need it reset to be sorted\n",
    "gene_gp_pubmedCount.head(n=10)"
   ]
  },
  {
   "cell_type": "markdown",
   "metadata": {},
   "source": [
    "**NOTE** another way to reset index is using `reset_index()` like so\n",
    "\n",
    "`gene2pubmed.groupby('GeneID')['PubMed_ID'].count().reset_index()`"
   ]
  },
  {
   "cell_type": "code",
   "execution_count": 64,
   "metadata": {},
   "outputs": [
    {
     "data": {
      "text/html": [
       "<div>\n",
       "<style scoped>\n",
       "    .dataframe tbody tr th:only-of-type {\n",
       "        vertical-align: middle;\n",
       "    }\n",
       "\n",
       "    .dataframe tbody tr th {\n",
       "        vertical-align: top;\n",
       "    }\n",
       "\n",
       "    .dataframe thead th {\n",
       "        text-align: right;\n",
       "    }\n",
       "</style>\n",
       "<table border=\"1\" class=\"dataframe\">\n",
       "  <thead>\n",
       "    <tr style=\"text-align: right;\">\n",
       "      <th></th>\n",
       "      <th>GeneID</th>\n",
       "      <th>PubMed_ID</th>\n",
       "    </tr>\n",
       "  </thead>\n",
       "  <tbody>\n",
       "    <tr>\n",
       "      <th>2729</th>\n",
       "      <td>2716540</td>\n",
       "      <td>50</td>\n",
       "    </tr>\n",
       "    <tr>\n",
       "      <th>6119</th>\n",
       "      <td>3244915</td>\n",
       "      <td>42</td>\n",
       "    </tr>\n",
       "    <tr>\n",
       "      <th>6637</th>\n",
       "      <td>3722457</td>\n",
       "      <td>42</td>\n",
       "    </tr>\n",
       "    <tr>\n",
       "      <th>1998</th>\n",
       "      <td>1446560</td>\n",
       "      <td>36</td>\n",
       "    </tr>\n",
       "    <tr>\n",
       "      <th>6379</th>\n",
       "      <td>3399421</td>\n",
       "      <td>34</td>\n",
       "    </tr>\n",
       "    <tr>\n",
       "      <th>7247</th>\n",
       "      <td>4246763</td>\n",
       "      <td>33</td>\n",
       "    </tr>\n",
       "    <tr>\n",
       "      <th>8825</th>\n",
       "      <td>6276088</td>\n",
       "      <td>32</td>\n",
       "    </tr>\n",
       "    <tr>\n",
       "      <th>7659</th>\n",
       "      <td>4924737</td>\n",
       "      <td>32</td>\n",
       "    </tr>\n",
       "    <tr>\n",
       "      <th>7602</th>\n",
       "      <td>4924680</td>\n",
       "      <td>32</td>\n",
       "    </tr>\n",
       "    <tr>\n",
       "      <th>1997</th>\n",
       "      <td>1446559</td>\n",
       "      <td>31</td>\n",
       "    </tr>\n",
       "  </tbody>\n",
       "</table>\n",
       "</div>"
      ],
      "text/plain": [
       "       GeneID  PubMed_ID\n",
       "2729  2716540         50\n",
       "6119  3244915         42\n",
       "6637  3722457         42\n",
       "1998  1446560         36\n",
       "6379  3399421         34\n",
       "7247  4246763         33\n",
       "8825  6276088         32\n",
       "7659  4924737         32\n",
       "7602  4924680         32\n",
       "1997  1446559         31"
      ]
     },
     "execution_count": 64,
     "metadata": {},
     "output_type": "execute_result"
    }
   ],
   "source": [
    "gene_gp_pubmedCount.sort_values('PubMed_ID', ascending=False).head(n=10)"
   ]
  },
  {
   "cell_type": "markdown",
   "metadata": {},
   "source": [
    "Lets change the column header so that the misleading `PubMedID` name is now `PubMed_pubs` to show that the column shows the number of PubMed publications associated with the gene"
   ]
  },
  {
   "cell_type": "code",
   "execution_count": 71,
   "metadata": {},
   "outputs": [
    {
     "data": {
      "text/html": [
       "<div>\n",
       "<style scoped>\n",
       "    .dataframe tbody tr th:only-of-type {\n",
       "        vertical-align: middle;\n",
       "    }\n",
       "\n",
       "    .dataframe tbody tr th {\n",
       "        vertical-align: top;\n",
       "    }\n",
       "\n",
       "    .dataframe thead th {\n",
       "        text-align: right;\n",
       "    }\n",
       "</style>\n",
       "<table border=\"1\" class=\"dataframe\">\n",
       "  <thead>\n",
       "    <tr style=\"text-align: right;\">\n",
       "      <th></th>\n",
       "      <th>GeneID</th>\n",
       "      <th>PubMed_pubs</th>\n",
       "    </tr>\n",
       "  </thead>\n",
       "  <tbody>\n",
       "    <tr>\n",
       "      <th>2729</th>\n",
       "      <td>2716540</td>\n",
       "      <td>50</td>\n",
       "    </tr>\n",
       "    <tr>\n",
       "      <th>6119</th>\n",
       "      <td>3244915</td>\n",
       "      <td>42</td>\n",
       "    </tr>\n",
       "    <tr>\n",
       "      <th>6637</th>\n",
       "      <td>3722457</td>\n",
       "      <td>42</td>\n",
       "    </tr>\n",
       "    <tr>\n",
       "      <th>1998</th>\n",
       "      <td>1446560</td>\n",
       "      <td>36</td>\n",
       "    </tr>\n",
       "    <tr>\n",
       "      <th>6379</th>\n",
       "      <td>3399421</td>\n",
       "      <td>34</td>\n",
       "    </tr>\n",
       "    <tr>\n",
       "      <th>7247</th>\n",
       "      <td>4246763</td>\n",
       "      <td>33</td>\n",
       "    </tr>\n",
       "    <tr>\n",
       "      <th>8825</th>\n",
       "      <td>6276088</td>\n",
       "      <td>32</td>\n",
       "    </tr>\n",
       "    <tr>\n",
       "      <th>7659</th>\n",
       "      <td>4924737</td>\n",
       "      <td>32</td>\n",
       "    </tr>\n",
       "    <tr>\n",
       "      <th>7602</th>\n",
       "      <td>4924680</td>\n",
       "      <td>32</td>\n",
       "    </tr>\n",
       "    <tr>\n",
       "      <th>1997</th>\n",
       "      <td>1446559</td>\n",
       "      <td>31</td>\n",
       "    </tr>\n",
       "  </tbody>\n",
       "</table>\n",
       "</div>"
      ],
      "text/plain": [
       "       GeneID  PubMed_pubs\n",
       "2729  2716540           50\n",
       "6119  3244915           42\n",
       "6637  3722457           42\n",
       "1998  1446560           36\n",
       "6379  3399421           34\n",
       "7247  4246763           33\n",
       "8825  6276088           32\n",
       "7659  4924737           32\n",
       "7602  4924680           32\n",
       "1997  1446559           31"
      ]
     },
     "execution_count": 71,
     "metadata": {},
     "output_type": "execute_result"
    }
   ],
   "source": [
    "gene_gp_pubmedCount = gene2pubmed.groupby('GeneID', as_index=False)['PubMed_ID'].agg({'PubMed_pubs': \"count\"}) # because pandas preserves the row index and we need it reset to be sorted\n",
    "gene_gp_pubmedCount.sort_values('PubMed_pubs', ascending=False).head(n=10)"
   ]
  },
  {
   "cell_type": "code",
   "execution_count": 24,
   "metadata": {},
   "outputs": [
    {
     "name": "stdout",
     "output_type": "stream",
     "text": [
      "| GeneID  | count |\n",
      "| ------- | ----- |\n",
      "| 2716540 |    50 |\n",
      "| 3244915 |    42 |\n",
      "| 3722457 |    42 |\n",
      "| 1446560 |    36 |\n",
      "| 3399421 |    34 |\n",
      "| ...     |   ... |\n"
     ]
    }
   ],
   "source": [
    "#grouping\n",
    "#by_gene = table.group_by('GeneID')\n",
    "#gene_totals = by_gene.aggregate([\n",
    "#    ('count', agate.Count())\n",
    "#])\n",
    "\n",
    "#sorted_gene_totals = gene_totals.order_by('count', reverse=True)\n",
    "\n",
    "#sorted_gene_totals.print_table(max_rows=5)\n",
    "\n"
   ]
  },
  {
   "cell_type": "code",
   "execution_count": 77,
   "metadata": {},
   "outputs": [
    {
     "name": "stdout",
     "output_type": "stream",
     "text": [
      "[('NcbiNameNode',)]\n"
     ]
    }
   ],
   "source": [
    "import sqlite3\n",
    "conn = sqlite3.connect('/home/neha/Documents/whale/metagenome/HiSeq/whaleScripts/NameNode.sqlite')\n",
    "c = conn.cursor()\n",
    "c.execute(\"SELECT name FROM sqlite_master WHERE type='table';\")\n",
    "print(c.fetchall())"
   ]
  },
  {
   "cell_type": "code",
   "execution_count": 80,
   "metadata": {},
   "outputs": [
    {
     "name": "stdout",
     "output_type": "stream",
     "text": [
      "[(0, 'tax_id', 'INTEGER', 0, None, 0), (1, 'name_txt', 'TEXT', 0, None, 0), (2, 'unique_name', 'TEXT', 0, None, 0), (3, 'name_class', 'TEXT', 0, None, 0), (4, 'parent_tax_id', 'INTEGER', 0, None, 0), (5, 'rank', 'TEXT', 0, None, 0)]\n"
     ]
    }
   ],
   "source": [
    "c.execute(\"PRAGMA table_info(NcbiNameNode)\")\n",
    "print(c.fetchall())"
   ]
  },
  {
   "cell_type": "markdown",
   "metadata": {},
   "source": [
    "another way is to do this via pandas"
   ]
  },
  {
   "cell_type": "code",
   "execution_count": 83,
   "metadata": {},
   "outputs": [
    {
     "data": {
      "text/html": [
       "<div>\n",
       "<style scoped>\n",
       "    .dataframe tbody tr th:only-of-type {\n",
       "        vertical-align: middle;\n",
       "    }\n",
       "\n",
       "    .dataframe tbody tr th {\n",
       "        vertical-align: top;\n",
       "    }\n",
       "\n",
       "    .dataframe thead th {\n",
       "        text-align: right;\n",
       "    }\n",
       "</style>\n",
       "<table border=\"1\" class=\"dataframe\">\n",
       "  <thead>\n",
       "    <tr style=\"text-align: right;\">\n",
       "      <th></th>\n",
       "      <th>tax_id</th>\n",
       "      <th>name_txt</th>\n",
       "      <th>unique_name</th>\n",
       "      <th>name_class</th>\n",
       "      <th>parent_tax_id</th>\n",
       "      <th>rank</th>\n",
       "    </tr>\n",
       "  </thead>\n",
       "  <tbody>\n",
       "    <tr>\n",
       "      <th>0</th>\n",
       "      <td>1</td>\n",
       "      <td>all</td>\n",
       "      <td></td>\n",
       "      <td>synonym</td>\n",
       "      <td>1</td>\n",
       "      <td>norank</td>\n",
       "    </tr>\n",
       "    <tr>\n",
       "      <th>1</th>\n",
       "      <td>1</td>\n",
       "      <td>root</td>\n",
       "      <td></td>\n",
       "      <td>scientific name</td>\n",
       "      <td>1</td>\n",
       "      <td>norank</td>\n",
       "    </tr>\n",
       "    <tr>\n",
       "      <th>2</th>\n",
       "      <td>2</td>\n",
       "      <td>Bacteria</td>\n",
       "      <td>Bacteria &lt;prokaryote&gt;</td>\n",
       "      <td>scientific name</td>\n",
       "      <td>131567</td>\n",
       "      <td>superkingdom</td>\n",
       "    </tr>\n",
       "    <tr>\n",
       "      <th>3</th>\n",
       "      <td>2</td>\n",
       "      <td>Monera</td>\n",
       "      <td>Monera &lt;Bacteria&gt;</td>\n",
       "      <td>in-part</td>\n",
       "      <td>131567</td>\n",
       "      <td>superkingdom</td>\n",
       "    </tr>\n",
       "    <tr>\n",
       "      <th>4</th>\n",
       "      <td>2</td>\n",
       "      <td>Procaryotae</td>\n",
       "      <td>Procaryotae &lt;Bacteria&gt;</td>\n",
       "      <td>in-part</td>\n",
       "      <td>131567</td>\n",
       "      <td>superkingdom</td>\n",
       "    </tr>\n",
       "  </tbody>\n",
       "</table>\n",
       "</div>"
      ],
      "text/plain": [
       "   tax_id     name_txt             unique_name       name_class  \\\n",
       "0       1          all                                  synonym   \n",
       "1       1         root                          scientific name   \n",
       "2       2     Bacteria   Bacteria <prokaryote>  scientific name   \n",
       "3       2       Monera       Monera <Bacteria>          in-part   \n",
       "4       2  Procaryotae  Procaryotae <Bacteria>          in-part   \n",
       "\n",
       "   parent_tax_id          rank  \n",
       "0              1        norank  \n",
       "1              1        norank  \n",
       "2         131567  superkingdom  \n",
       "3         131567  superkingdom  \n",
       "4         131567  superkingdom  "
      ]
     },
     "execution_count": 83,
     "metadata": {},
     "output_type": "execute_result"
    }
   ],
   "source": [
    "import pandas as pd\n",
    "import sqlite3\n",
    "\n",
    "# for single table\n",
    "conn = sqlite3.connect('/home/neha/Documents/whale/metagenome/HiSeq/whaleScripts/NameNode.sqlite')\n",
    "tab = pd.read_sql_query(\"SELECT * from NcbiNameNode\", conn)\n"
   ]
  },
  {
   "cell_type": "code",
   "execution_count": 85,
   "metadata": {},
   "outputs": [
    {
     "data": {
      "text/html": [
       "<div>\n",
       "<style scoped>\n",
       "    .dataframe tbody tr th:only-of-type {\n",
       "        vertical-align: middle;\n",
       "    }\n",
       "\n",
       "    .dataframe tbody tr th {\n",
       "        vertical-align: top;\n",
       "    }\n",
       "\n",
       "    .dataframe thead th {\n",
       "        text-align: right;\n",
       "    }\n",
       "</style>\n",
       "<table border=\"1\" class=\"dataframe\">\n",
       "  <thead>\n",
       "    <tr style=\"text-align: right;\">\n",
       "      <th></th>\n",
       "      <th>tax_id</th>\n",
       "      <th>name_txt</th>\n",
       "      <th>unique_name</th>\n",
       "      <th>name_class</th>\n",
       "      <th>parent_tax_id</th>\n",
       "      <th>rank</th>\n",
       "    </tr>\n",
       "  </thead>\n",
       "  <tbody>\n",
       "    <tr>\n",
       "      <th>0</th>\n",
       "      <td>1</td>\n",
       "      <td>all</td>\n",
       "      <td></td>\n",
       "      <td>synonym</td>\n",
       "      <td>1</td>\n",
       "      <td>norank</td>\n",
       "    </tr>\n",
       "    <tr>\n",
       "      <th>1</th>\n",
       "      <td>1</td>\n",
       "      <td>root</td>\n",
       "      <td></td>\n",
       "      <td>scientific name</td>\n",
       "      <td>1</td>\n",
       "      <td>norank</td>\n",
       "    </tr>\n",
       "    <tr>\n",
       "      <th>2</th>\n",
       "      <td>2</td>\n",
       "      <td>Bacteria</td>\n",
       "      <td>Bacteria &lt;prokaryote&gt;</td>\n",
       "      <td>scientific name</td>\n",
       "      <td>131567</td>\n",
       "      <td>superkingdom</td>\n",
       "    </tr>\n",
       "    <tr>\n",
       "      <th>3</th>\n",
       "      <td>2</td>\n",
       "      <td>Monera</td>\n",
       "      <td>Monera &lt;Bacteria&gt;</td>\n",
       "      <td>in-part</td>\n",
       "      <td>131567</td>\n",
       "      <td>superkingdom</td>\n",
       "    </tr>\n",
       "    <tr>\n",
       "      <th>4</th>\n",
       "      <td>2</td>\n",
       "      <td>Procaryotae</td>\n",
       "      <td>Procaryotae &lt;Bacteria&gt;</td>\n",
       "      <td>in-part</td>\n",
       "      <td>131567</td>\n",
       "      <td>superkingdom</td>\n",
       "    </tr>\n",
       "    <tr>\n",
       "      <th>5</th>\n",
       "      <td>2</td>\n",
       "      <td>Prokaryota</td>\n",
       "      <td>Prokaryota &lt;Bacteria&gt;</td>\n",
       "      <td>in-part</td>\n",
       "      <td>131567</td>\n",
       "      <td>superkingdom</td>\n",
       "    </tr>\n",
       "    <tr>\n",
       "      <th>6</th>\n",
       "      <td>2</td>\n",
       "      <td>Prokaryotae</td>\n",
       "      <td>Prokaryotae &lt;Bacteria&gt;</td>\n",
       "      <td>in-part</td>\n",
       "      <td>131567</td>\n",
       "      <td>superkingdom</td>\n",
       "    </tr>\n",
       "    <tr>\n",
       "      <th>7</th>\n",
       "      <td>2</td>\n",
       "      <td>bacteria</td>\n",
       "      <td>bacteria &lt;blast2&gt;</td>\n",
       "      <td>blast name</td>\n",
       "      <td>131567</td>\n",
       "      <td>superkingdom</td>\n",
       "    </tr>\n",
       "    <tr>\n",
       "      <th>8</th>\n",
       "      <td>2</td>\n",
       "      <td>eubacteria</td>\n",
       "      <td></td>\n",
       "      <td>genbank common name</td>\n",
       "      <td>131567</td>\n",
       "      <td>superkingdom</td>\n",
       "    </tr>\n",
       "    <tr>\n",
       "      <th>9</th>\n",
       "      <td>2</td>\n",
       "      <td>not Bacteria Haeckel 1894</td>\n",
       "      <td></td>\n",
       "      <td>synonym</td>\n",
       "      <td>131567</td>\n",
       "      <td>superkingdom</td>\n",
       "    </tr>\n",
       "  </tbody>\n",
       "</table>\n",
       "</div>"
      ],
      "text/plain": [
       "   tax_id                   name_txt             unique_name  \\\n",
       "0       1                        all                           \n",
       "1       1                       root                           \n",
       "2       2                   Bacteria   Bacteria <prokaryote>   \n",
       "3       2                     Monera       Monera <Bacteria>   \n",
       "4       2                Procaryotae  Procaryotae <Bacteria>   \n",
       "5       2                 Prokaryota   Prokaryota <Bacteria>   \n",
       "6       2                Prokaryotae  Prokaryotae <Bacteria>   \n",
       "7       2                   bacteria       bacteria <blast2>   \n",
       "8       2                 eubacteria                           \n",
       "9       2  not Bacteria Haeckel 1894                           \n",
       "\n",
       "            name_class  parent_tax_id          rank  \n",
       "0              synonym              1        norank  \n",
       "1      scientific name              1        norank  \n",
       "2      scientific name         131567  superkingdom  \n",
       "3              in-part         131567  superkingdom  \n",
       "4              in-part         131567  superkingdom  \n",
       "5              in-part         131567  superkingdom  \n",
       "6              in-part         131567  superkingdom  \n",
       "7           blast name         131567  superkingdom  \n",
       "8  genbank common name         131567  superkingdom  \n",
       "9              synonym         131567  superkingdom  "
      ]
     },
     "execution_count": 85,
     "metadata": {},
     "output_type": "execute_result"
    }
   ],
   "source": [
    "tab.head(n=10)"
   ]
  }
 ],
 "metadata": {
  "kernelspec": {
   "display_name": "Python 3",
   "language": "python",
   "name": "python3"
  },
  "language_info": {
   "codemirror_mode": {
    "name": "ipython",
    "version": 3
   },
   "file_extension": ".py",
   "mimetype": "text/x-python",
   "name": "python",
   "nbconvert_exporter": "python",
   "pygments_lexer": "ipython3",
   "version": "3.6.4"
  }
 },
 "nbformat": 4,
 "nbformat_minor": 2
}
