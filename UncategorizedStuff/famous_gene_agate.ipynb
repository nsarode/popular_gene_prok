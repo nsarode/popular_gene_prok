{
 "cells": [
  {
   "cell_type": "code",
   "execution_count": 1,
   "metadata": {
    "collapsed": true
   },
   "outputs": [],
   "source": [
    "import agate"
   ]
  },
  {
   "cell_type": "code",
   "execution_count": 3,
   "metadata": {
    "collapsed": true
   },
   "outputs": [],
   "source": [
    "table = agate.Table.from_csv('test_gene2pubmed', delimiter='\\t')"
   ]
  },
  {
   "cell_type": "code",
   "execution_count": 4,
   "metadata": {},
   "outputs": [
    {
     "name": "stdout",
     "output_type": "stream",
     "text": [
      "| column    | data_type |\n",
      "| --------- | --------- |\n",
      "| #tax_id   | Number    |\n",
      "| GeneID    | Number    |\n",
      "| PubMed_ID | Number    |\n",
      "\n"
     ]
    }
   ],
   "source": [
    "print(table)"
   ]
  },
  {
   "cell_type": "markdown",
   "metadata": {},
   "source": [
    "The data is numeric, but we want it read as categorical, because these are ID's."
   ]
  },
  {
   "cell_type": "code",
   "execution_count": 5,
   "metadata": {
    "collapsed": true
   },
   "outputs": [],
   "source": [
    "tester = agate.TypeTester(force={\n",
    "    '#tax_id': agate.Text(),\n",
    "    'GeneID': agate.Text(),\n",
    "    'PubMed_ID': agate.Text()\n",
    "})\n",
    "\n",
    "table = agate.Table.from_csv('test_gene2pubmed', delimiter='\\t', column_types=tester)"
   ]
  },
  {
   "cell_type": "code",
   "execution_count": 6,
   "metadata": {
    "collapsed": true
   },
   "outputs": [
    {
     "name": "stdout",
     "output_type": "stream",
     "text": [
      "| column    | data_type |\n",
      "| --------- | --------- |\n",
      "| #tax_id   | Text      |\n",
      "| GeneID    | Text      |\n",
      "| PubMed_ID | Text      |\n",
      "\n"
     ]
    }
   ],
   "source": [
    "print(table)"
   ]
  },
  {
   "cell_type": "code",
   "execution_count": 14,
   "metadata": {},
   "outputs": [
    {
     "name": "stdout",
     "output_type": "stream",
     "text": [
      "GeneID                     Count\n",
      "[0 - 4,000,000)           14,538 ▓░░░░░░░░░░░░░░░░░░░░░░░░░░░░░░░░░░░░░░░░░░                                            \n",
      "[4,000,000 - 8,000,000)   16,317 ▓░░░░░░░░░░░░░░░░░░░░░░░░░░░░░░░░░░░░░░░░░░░░░░░                                       \n",
      "[8,000,000 - 12,000,000)   5,219 ▓░░░░░░░░░░░░░░░                                                                       \n",
      "[12,000,000 - 16,000,000)  9,097 ▓░░░░░░░░░░░░░░░░░░░░░░░░░░                                                            \n",
      "[16,000,000 - 20,000,000)  5,517 ▓░░░░░░░░░░░░░░░░                                                                      \n",
      "[20,000,000 - 24,000,000)  5,834 ▓░░░░░░░░░░░░░░░░░                                                                     \n",
      "[24,000,000 - 28,000,000)     69 ▓                                                                                      \n",
      "[28,000,000 - 32,000,000) 26,993 ▓░░░░░░░░░░░░░░░░░░░░░░░░░░░░░░░░░░░░░░░░░░░░░░░░░░░░░░░░░░░░░░░░░░░░░░░░░░░░░         \n",
      "[32,000,000 - 36,000,000) 16,415 ▓░░░░░░░░░░░░░░░░░░░░░░░░░░░░░░░░░░░░░░░░░░░░░░░                                       \n",
      "                                 +---------------------+--------------------+--------------------+---------------------+\n",
      "                                 0                   7,500               15,000               22,500              30,000\n"
     ]
    }
   ],
   "source": [
    "#table_bins = table.bins('GeneID')\n",
    "#table_bins.print_bars('GeneID','Count')"
   ]
  },
  {
   "cell_type": "markdown",
   "metadata": {},
   "source": [
    "**Q** What Gene is associated by most publications ?"
   ]
  },
  {
   "cell_type": "code",
   "execution_count": 34,
   "metadata": {},
   "outputs": [
    {
     "name": "stdout",
     "output_type": "stream",
     "text": [
      "| PubMed_ID | 1246500 | 1246501 | 1246502 | 1246503 | 1246504 | ... |\n",
      "| --------- | ------- | ------- | ------- | ------- | ------- | --- |\n",
      "| 9873079   |       1 |       1 |       1 |       1 |       1 | ... |\n",
      "| 9812361   |       0 |       0 |       1 |       0 |       0 | ... |\n",
      "| 10984505  |       0 |       0 |       0 |       0 |       0 | ... |\n",
      "| 7608990   |       0 |       0 |       0 |       0 |       0 | ... |\n",
      "| 16413149  |       0 |       0 |       0 |       0 |       0 | ... |\n",
      "| ...       |     ... |     ... |     ... |     ... |     ... | ... |\n"
     ]
    }
   ],
   "source": [
    "# trying agate way\n",
    "#geneId_dist = (table.pivot('PubMed_ID', 'GeneID' ))\n",
    "#geneId_dist = geneId_dist.order_by('Count', reverse=True)\n",
    "geneId_dist.print_table(max_rows=5) # not quite what I wanted"
   ]
  },
  {
   "cell_type": "code",
   "execution_count": 5,
   "metadata": {
    "collapsed": true
   },
   "outputs": [],
   "source": [
    "# trying using pandas\n",
    "import pandas as pd\n",
    "gene2pubmed = pd.read_table(\"test_gene2pubmed\", sep = \"\\t\")\n",
    "#gene2pubmed = pd.read_table(\"data/genbank-data/gene2pubmed\", sep = \"\\t\")\n",
    "#gene2pubmed.groupby(['GeneID'])['PubMed_ID'].count().head(n=10) # can we sort this to get a better idea ?"
   ]
  },
  {
   "cell_type": "code",
   "execution_count": 11,
   "metadata": {},
   "outputs": [
    {
     "data": {
      "text/html": [
       "<div>\n",
       "<style>\n",
       "    .dataframe thead tr:only-child th {\n",
       "        text-align: right;\n",
       "    }\n",
       "\n",
       "    .dataframe thead th {\n",
       "        text-align: left;\n",
       "    }\n",
       "\n",
       "    .dataframe tbody tr th {\n",
       "        vertical-align: top;\n",
       "    }\n",
       "</style>\n",
       "<table border=\"1\" class=\"dataframe\">\n",
       "  <thead>\n",
       "    <tr style=\"text-align: right;\">\n",
       "      <th></th>\n",
       "      <th>GeneID</th>\n",
       "      <th>PubMed_ID</th>\n",
       "    </tr>\n",
       "  </thead>\n",
       "  <tbody>\n",
       "    <tr>\n",
       "      <th>0</th>\n",
       "      <td>874673</td>\n",
       "      <td>1</td>\n",
       "    </tr>\n",
       "    <tr>\n",
       "      <th>1</th>\n",
       "      <td>874677</td>\n",
       "      <td>3</td>\n",
       "    </tr>\n",
       "    <tr>\n",
       "      <th>2</th>\n",
       "      <td>874678</td>\n",
       "      <td>3</td>\n",
       "    </tr>\n",
       "    <tr>\n",
       "      <th>3</th>\n",
       "      <td>874679</td>\n",
       "      <td>3</td>\n",
       "    </tr>\n",
       "    <tr>\n",
       "      <th>4</th>\n",
       "      <td>874680</td>\n",
       "      <td>3</td>\n",
       "    </tr>\n",
       "    <tr>\n",
       "      <th>5</th>\n",
       "      <td>874681</td>\n",
       "      <td>3</td>\n",
       "    </tr>\n",
       "    <tr>\n",
       "      <th>6</th>\n",
       "      <td>874682</td>\n",
       "      <td>3</td>\n",
       "    </tr>\n",
       "    <tr>\n",
       "      <th>7</th>\n",
       "      <td>874683</td>\n",
       "      <td>3</td>\n",
       "    </tr>\n",
       "    <tr>\n",
       "      <th>8</th>\n",
       "      <td>874684</td>\n",
       "      <td>3</td>\n",
       "    </tr>\n",
       "    <tr>\n",
       "      <th>9</th>\n",
       "      <td>874685</td>\n",
       "      <td>3</td>\n",
       "    </tr>\n",
       "  </tbody>\n",
       "</table>\n",
       "</div>"
      ],
      "text/plain": [
       "   GeneID  PubMed_ID\n",
       "0  874673          1\n",
       "1  874677          3\n",
       "2  874678          3\n",
       "3  874679          3\n",
       "4  874680          3\n",
       "5  874681          3\n",
       "6  874682          3\n",
       "7  874683          3\n",
       "8  874684          3\n",
       "9  874685          3"
      ]
     },
     "execution_count": 11,
     "metadata": {},
     "output_type": "execute_result"
    }
   ],
   "source": [
    "gene_gp_pubmedCount = gene2pubmed.groupby('GeneID', as_index=False)['PubMed_ID'].count() # because pandas preserves the row index and we need it reset to be sorted\n",
    "gene_gp_pubmedCount.head(n=10)"
   ]
  },
  {
   "cell_type": "markdown",
   "metadata": {},
   "source": [
    "**NOTE** another way to reset index is using `reset_index()` like so\n",
    "\n",
    "`gene2pubmed.groupby('GeneID')['PubMed_ID'].count().reset_index()`"
   ]
  },
  {
   "cell_type": "code",
   "execution_count": 12,
   "metadata": {},
   "outputs": [
    {
     "data": {
      "text/html": [
       "<div>\n",
       "<style>\n",
       "    .dataframe thead tr:only-child th {\n",
       "        text-align: right;\n",
       "    }\n",
       "\n",
       "    .dataframe thead th {\n",
       "        text-align: left;\n",
       "    }\n",
       "\n",
       "    .dataframe tbody tr th {\n",
       "        vertical-align: top;\n",
       "    }\n",
       "</style>\n",
       "<table border=\"1\" class=\"dataframe\">\n",
       "  <thead>\n",
       "    <tr style=\"text-align: right;\">\n",
       "      <th></th>\n",
       "      <th>GeneID</th>\n",
       "      <th>PubMed_ID</th>\n",
       "    </tr>\n",
       "  </thead>\n",
       "  <tbody>\n",
       "    <tr>\n",
       "      <th>2729</th>\n",
       "      <td>2716540</td>\n",
       "      <td>50</td>\n",
       "    </tr>\n",
       "    <tr>\n",
       "      <th>6119</th>\n",
       "      <td>3244915</td>\n",
       "      <td>42</td>\n",
       "    </tr>\n",
       "    <tr>\n",
       "      <th>6637</th>\n",
       "      <td>3722457</td>\n",
       "      <td>42</td>\n",
       "    </tr>\n",
       "    <tr>\n",
       "      <th>1998</th>\n",
       "      <td>1446560</td>\n",
       "      <td>36</td>\n",
       "    </tr>\n",
       "    <tr>\n",
       "      <th>6379</th>\n",
       "      <td>3399421</td>\n",
       "      <td>34</td>\n",
       "    </tr>\n",
       "    <tr>\n",
       "      <th>7247</th>\n",
       "      <td>4246763</td>\n",
       "      <td>33</td>\n",
       "    </tr>\n",
       "    <tr>\n",
       "      <th>8825</th>\n",
       "      <td>6276088</td>\n",
       "      <td>32</td>\n",
       "    </tr>\n",
       "    <tr>\n",
       "      <th>7659</th>\n",
       "      <td>4924737</td>\n",
       "      <td>32</td>\n",
       "    </tr>\n",
       "    <tr>\n",
       "      <th>7602</th>\n",
       "      <td>4924680</td>\n",
       "      <td>32</td>\n",
       "    </tr>\n",
       "    <tr>\n",
       "      <th>1997</th>\n",
       "      <td>1446559</td>\n",
       "      <td>31</td>\n",
       "    </tr>\n",
       "  </tbody>\n",
       "</table>\n",
       "</div>"
      ],
      "text/plain": [
       "       GeneID  PubMed_ID\n",
       "2729  2716540         50\n",
       "6119  3244915         42\n",
       "6637  3722457         42\n",
       "1998  1446560         36\n",
       "6379  3399421         34\n",
       "7247  4246763         33\n",
       "8825  6276088         32\n",
       "7659  4924737         32\n",
       "7602  4924680         32\n",
       "1997  1446559         31"
      ]
     },
     "execution_count": 12,
     "metadata": {},
     "output_type": "execute_result"
    }
   ],
   "source": [
    "gene_gp_pubmedCount.sort_values('PubMed_ID', ascending=False).head(n=10)"
   ]
  },
  {
   "cell_type": "markdown",
   "metadata": {},
   "source": [
    "Lets change the column header so that the misleading `PubMedID` name is now `PubMed_pubs` to show that the column shows the number of PubMed publications associated with the gene"
   ]
  },
  {
   "cell_type": "code",
   "execution_count": 6,
   "metadata": {},
   "outputs": [
    {
     "data": {
      "text/html": [
       "<div>\n",
       "<style>\n",
       "    .dataframe thead tr:only-child th {\n",
       "        text-align: right;\n",
       "    }\n",
       "\n",
       "    .dataframe thead th {\n",
       "        text-align: left;\n",
       "    }\n",
       "\n",
       "    .dataframe tbody tr th {\n",
       "        vertical-align: top;\n",
       "    }\n",
       "</style>\n",
       "<table border=\"1\" class=\"dataframe\">\n",
       "  <thead>\n",
       "    <tr style=\"text-align: right;\">\n",
       "      <th></th>\n",
       "      <th>GeneID</th>\n",
       "      <th>PubMed_pubs</th>\n",
       "    </tr>\n",
       "  </thead>\n",
       "  <tbody>\n",
       "    <tr>\n",
       "      <th>2729</th>\n",
       "      <td>2716540</td>\n",
       "      <td>50</td>\n",
       "    </tr>\n",
       "    <tr>\n",
       "      <th>6119</th>\n",
       "      <td>3244915</td>\n",
       "      <td>42</td>\n",
       "    </tr>\n",
       "    <tr>\n",
       "      <th>6637</th>\n",
       "      <td>3722457</td>\n",
       "      <td>42</td>\n",
       "    </tr>\n",
       "    <tr>\n",
       "      <th>1998</th>\n",
       "      <td>1446560</td>\n",
       "      <td>36</td>\n",
       "    </tr>\n",
       "    <tr>\n",
       "      <th>6379</th>\n",
       "      <td>3399421</td>\n",
       "      <td>34</td>\n",
       "    </tr>\n",
       "    <tr>\n",
       "      <th>7247</th>\n",
       "      <td>4246763</td>\n",
       "      <td>33</td>\n",
       "    </tr>\n",
       "    <tr>\n",
       "      <th>8825</th>\n",
       "      <td>6276088</td>\n",
       "      <td>32</td>\n",
       "    </tr>\n",
       "    <tr>\n",
       "      <th>7659</th>\n",
       "      <td>4924737</td>\n",
       "      <td>32</td>\n",
       "    </tr>\n",
       "    <tr>\n",
       "      <th>7602</th>\n",
       "      <td>4924680</td>\n",
       "      <td>32</td>\n",
       "    </tr>\n",
       "    <tr>\n",
       "      <th>1997</th>\n",
       "      <td>1446559</td>\n",
       "      <td>31</td>\n",
       "    </tr>\n",
       "  </tbody>\n",
       "</table>\n",
       "</div>"
      ],
      "text/plain": [
       "       GeneID  PubMed_pubs\n",
       "2729  2716540           50\n",
       "6119  3244915           42\n",
       "6637  3722457           42\n",
       "1998  1446560           36\n",
       "6379  3399421           34\n",
       "7247  4246763           33\n",
       "8825  6276088           32\n",
       "7659  4924737           32\n",
       "7602  4924680           32\n",
       "1997  1446559           31"
      ]
     },
     "execution_count": 6,
     "metadata": {},
     "output_type": "execute_result"
    }
   ],
   "source": [
    "gene_gp_pubmedCount = gene2pubmed.groupby('GeneID', as_index=False)['PubMed_ID'].agg({'PubMed_pubs': \"count\"}) # because pandas preserves the row index and we need it reset to be sorted\n",
    "gene_gp_pubmedCount.sort_values('PubMed_pubs', ascending=False).head(n=10)"
   ]
  },
  {
   "cell_type": "code",
   "execution_count": 18,
   "metadata": {},
   "outputs": [
    {
     "data": {
      "text/html": [
       "<div>\n",
       "<style>\n",
       "    .dataframe thead tr:only-child th {\n",
       "        text-align: right;\n",
       "    }\n",
       "\n",
       "    .dataframe thead th {\n",
       "        text-align: left;\n",
       "    }\n",
       "\n",
       "    .dataframe tbody tr th {\n",
       "        vertical-align: top;\n",
       "    }\n",
       "</style>\n",
       "<table border=\"1\" class=\"dataframe\">\n",
       "  <thead>\n",
       "    <tr style=\"text-align: right;\">\n",
       "      <th></th>\n",
       "      <th>#tax_id</th>\n",
       "      <th>GeneID</th>\n",
       "      <th>PubMed_ID</th>\n",
       "    </tr>\n",
       "  </thead>\n",
       "  <tbody>\n",
       "    <tr>\n",
       "      <th>47</th>\n",
       "      <td>562</td>\n",
       "      <td>17035</td>\n",
       "      <td>17035</td>\n",
       "    </tr>\n",
       "    <tr>\n",
       "      <th>27</th>\n",
       "      <td>394</td>\n",
       "      <td>9164</td>\n",
       "      <td>9164</td>\n",
       "    </tr>\n",
       "    <tr>\n",
       "      <th>50</th>\n",
       "      <td>573</td>\n",
       "      <td>8502</td>\n",
       "      <td>8502</td>\n",
       "    </tr>\n",
       "    <tr>\n",
       "      <th>90</th>\n",
       "      <td>813</td>\n",
       "      <td>8150</td>\n",
       "      <td>8150</td>\n",
       "    </tr>\n",
       "    <tr>\n",
       "      <th>31</th>\n",
       "      <td>470</td>\n",
       "      <td>7023</td>\n",
       "      <td>7023</td>\n",
       "    </tr>\n",
       "  </tbody>\n",
       "</table>\n",
       "</div>"
      ],
      "text/plain": [
       "    #tax_id  GeneID  PubMed_ID\n",
       "47      562   17035      17035\n",
       "27      394    9164       9164\n",
       "50      573    8502       8502\n",
       "90      813    8150       8150\n",
       "31      470    7023       7023"
      ]
     },
     "execution_count": 18,
     "metadata": {},
     "output_type": "execute_result"
    }
   ],
   "source": [
    "#tx_gp_genepubmedCount = gene2pubmed.groupby('#tax_id', as_index=False)['GeneID','PubMed_ID'].agg({'GeneID_count': \"count\",'PubMed_pubs': \"count\"}) # because pandas preserves the row index and we need it reset to be sorted\n",
    "tx_gp_genepubmedCount = gene2pubmed.groupby('#tax_id', as_index=False)['GeneID','PubMed_ID'].count()\n",
    "tx_gp_genepubmedCount.sort_values('GeneID', ascending=False).head()\n",
    "#tx_gp_genepubmedCount.sort_values('PubMed_pubs', ascending=False).head(n=10)"
   ]
  },
  {
   "cell_type": "code",
   "execution_count": 24,
   "metadata": {},
   "outputs": [
    {
     "name": "stdout",
     "output_type": "stream",
     "text": [
      "| GeneID  | count |\n",
      "| ------- | ----- |\n",
      "| 2716540 |    50 |\n",
      "| 3244915 |    42 |\n",
      "| 3722457 |    42 |\n",
      "| 1446560 |    36 |\n",
      "| 3399421 |    34 |\n",
      "| ...     |   ... |\n"
     ]
    }
   ],
   "source": [
    "#grouping\n",
    "#by_gene = table.group_by('GeneID')\n",
    "#gene_totals = by_gene.aggregate([\n",
    "#    ('count', agate.Count())\n",
    "#])\n",
    "\n",
    "#sorted_gene_totals = gene_totals.order_by('count', reverse=True)\n",
    "\n",
    "#sorted_gene_totals.print_table(max_rows=5)\n",
    "\n"
   ]
  },
  {
   "cell_type": "markdown",
   "metadata": {},
   "source": [
    "# Testing area"
   ]
  },
  {
   "cell_type": "markdown",
   "metadata": {},
   "source": [
    "## Testing ETE package"
   ]
  },
  {
   "cell_type": "code",
   "execution_count": 3,
   "metadata": {},
   "outputs": [
    {
     "name": "stderr",
     "output_type": "stream",
     "text": [
      "/Users/nsarode/anaconda3/envs/py36/lib/python3.6/importlib/_bootstrap.py:219: ImportWarning: can't resolve package from __spec__ or __package__, falling back on __name__ and __path__\n",
      "NCBI database not present yet (first time used?)\n",
      "Downloading taxdump.tar.gz from NCBI FTP site (via HTTP)...\n",
      "Done. Parsing...\n"
     ]
    },
    {
     "name": "stdout",
     "output_type": "stream",
     "text": [
      "Loading node names...\n",
      "1700922 names loaded.\n",
      "197991 synonyms loaded.\n",
      "Loading nodes...\n",
      "1700922 nodes loaded.\n",
      "Linking nodes...\n",
      "Tree is loaded.\n"
     ]
    },
    {
     "name": "stderr",
     "output_type": "stream",
     "text": [
      "/Users/nsarode/anaconda3/envs/py36/lib/python3.6/site-packages/ete3/ncbi_taxonomy/ncbiquery.py:747: ResourceWarning: unclosed file <_io.BufferedWriter name='/Users/nsarode/.etetoolkit/taxa.sqlite.traverse.pkl'>\n"
     ]
    },
    {
     "name": "stdout",
     "output_type": "stream",
     "text": [
      "Updating database: /Users/nsarode/.etetoolkit/taxa.sqlite ...\n",
      " 1484000 generating entries... generating entries... 284000 generating entries...  generating entries...   generating entries...  generating entries... \r"
     ]
    },
    {
     "name": "stderr",
     "output_type": "stream",
     "text": [
      "/Users/nsarode/anaconda3/envs/py36/lib/python3.6/site-packages/ete3/ncbi_taxonomy/ncbiquery.py:752: ResourceWarning: unclosed file <_io.TextIOWrapper name='syn.tab' mode='w' encoding='UTF-8'>\n",
      "Inserting synonyms:          0 "
     ]
    },
    {
     "name": "stdout",
     "output_type": "stream",
     "text": [
      " 1700000 generating entries... \n",
      "Uploading to /Users/nsarode/.etetoolkit/taxa.sqlite\n",
      "\n"
     ]
    },
    {
     "name": "stderr",
     "output_type": "stream",
     "text": [
      "Inserting synonyms:      195000 /Users/nsarode/anaconda3/envs/py36/lib/python3.6/site-packages/ete3/ncbi_taxonomy/ncbiquery.py:797: ResourceWarning: unclosed file <_io.TextIOWrapper name='syn.tab' mode='r' encoding='UTF-8'>\n",
      "Inserting taxid merges:  40000 "
     ]
    },
    {
     "name": "stdout",
     "output_type": "stream",
     "text": [
      "\n"
     ]
    },
    {
     "name": "stderr",
     "output_type": "stream",
     "text": [
      "Inserting taxid merges:  45000 /Users/nsarode/anaconda3/envs/py36/lib/python3.6/site-packages/ete3/ncbi_taxonomy/ncbiquery.py:805: ResourceWarning: unclosed file <_io.TextIOWrapper name='merged.tab' mode='r' encoding='UTF-8'>\n",
      "Inserting taxids:       20000 "
     ]
    },
    {
     "name": "stdout",
     "output_type": "stream",
     "text": [
      "\n"
     ]
    },
    {
     "name": "stderr",
     "output_type": "stream",
     "text": [
      "Inserting taxids:       1700000   /Users/nsarode/anaconda3/envs/py36/lib/python3.6/site-packages/ete3/ncbi_taxonomy/ncbiquery.py:813: ResourceWarning: unclosed file <_io.TextIOWrapper name='taxa.tab' mode='r' encoding='UTF-8'>\n"
     ]
    },
    {
     "name": "stdout",
     "output_type": "stream",
     "text": [
      "\n"
     ]
    }
   ],
   "source": [
    "from ete3 import NCBITaxa\n",
    "ncbi = NCBITaxa()"
   ]
  },
  {
   "cell_type": "code",
   "execution_count": 7,
   "metadata": {},
   "outputs": [
    {
     "data": {
      "text/plain": [
       "131567"
      ]
     },
     "execution_count": 7,
     "metadata": {},
     "output_type": "execute_result"
    }
   ],
   "source": [
    "lineage = ncbi.get_lineage(9606)\n",
    "type(lineage)"
   ]
  },
  {
   "cell_type": "code",
   "execution_count": null,
   "metadata": {
    "collapsed": true
   },
   "outputs": [],
   "source": []
  },
  {
   "cell_type": "markdown",
   "metadata": {},
   "source": [
    "## NCBI taxonomy sqlite3 database"
   ]
  },
  {
   "cell_type": "code",
   "execution_count": 13,
   "metadata": {},
   "outputs": [
    {
     "name": "stdout",
     "output_type": "stream",
     "text": [
      "[('NcbiNameNode',)]\n"
     ]
    }
   ],
   "source": [
    "import sqlite3\n",
    "#conn = sqlite3.connect('/home/neha/Documents/whale/metagenome/HiSeq/whaleScripts/NameNode.sqlite')\n",
    "conn = sqlite3.connect('NameNode.sqlite')\n",
    "c = conn.cursor()\n",
    "# list tables. Equivalent to dbListTables(conn) \n",
    "c.execute(\"SELECT name FROM sqlite_master WHERE type='table';\")\n",
    "print(c.fetchall())\n",
    "# cur.fetchone() # print the first retrieved result only"
   ]
  },
  {
   "cell_type": "code",
   "execution_count": 14,
   "metadata": {
    "scrolled": true
   },
   "outputs": [
    {
     "name": "stdout",
     "output_type": "stream",
     "text": [
      "[(0, 'tax_id', 'INTEGER', 0, None, 0), (1, 'name_txt', 'TEXT', 0, None, 0), (2, 'unique_name', 'TEXT', 0, None, 0), (3, 'name_class', 'TEXT', 0, None, 0), (4, 'parent_tax_id', 'INTEGER', 0, None, 0), (5, 'rank', 'TEXT', 0, None, 0)]\n"
     ]
    }
   ],
   "source": [
    "#print information about the table. Equivalent to dbListFields(conn,\"NcbiNameNode\") \n",
    "c.execute(\"PRAGMA table_info(NcbiNameNode)\")\n",
    "print(c.fetchall())\n",
    "c.close()\n",
    "conn.close()"
   ]
  },
  {
   "cell_type": "markdown",
   "metadata": {},
   "source": [
    "Another efficient way is using pandas. You can save results from queries directly into dataframe"
   ]
  },
  {
   "cell_type": "code",
   "execution_count": 24,
   "metadata": {},
   "outputs": [
    {
     "data": {
      "text/html": [
       "<div>\n",
       "<style>\n",
       "    .dataframe thead tr:only-child th {\n",
       "        text-align: right;\n",
       "    }\n",
       "\n",
       "    .dataframe thead th {\n",
       "        text-align: left;\n",
       "    }\n",
       "\n",
       "    .dataframe tbody tr th {\n",
       "        vertical-align: top;\n",
       "    }\n",
       "</style>\n",
       "<table border=\"1\" class=\"dataframe\">\n",
       "  <thead>\n",
       "    <tr style=\"text-align: right;\">\n",
       "      <th></th>\n",
       "      <th>tax_id</th>\n",
       "      <th>name_txt</th>\n",
       "      <th>parent_tax_id</th>\n",
       "      <th>rank</th>\n",
       "    </tr>\n",
       "  </thead>\n",
       "  <tbody>\n",
       "  </tbody>\n",
       "</table>\n",
       "</div>"
      ],
      "text/plain": [
       "Empty DataFrame\n",
       "Columns: [tax_id, name_txt, parent_tax_id, rank]\n",
       "Index: []"
      ]
     },
     "execution_count": 24,
     "metadata": {},
     "output_type": "execute_result"
    }
   ],
   "source": [
    "import sqlite3\n",
    "import pandas as pd\n",
    "# Read sqlite query results into a pandas DataFrame\n",
    "con = sqlite3.connect(\"NameNode.sqlite\")\n",
    "#df = pd.read_sql_query(\"SELECT * from NcbiNameNode\", con) \n",
    "df = pd.read_sql_query(\"SELECT tax_id, name_txt,parent_tax_id, rank FROM NcbiNameNode WHERE tax_id == 175128\", con)\n",
    "con.close()\n",
    "df\n",
    "#df.loc[0][\"name_txt\"] # 'Clostridium sp. JCC'"
   ]
  },
  {
   "cell_type": "code",
   "execution_count": 27,
   "metadata": {},
   "outputs": [
    {
     "name": "stdout",
     "output_type": "stream",
     "text": [
      "Check !!\n"
     ]
    }
   ],
   "source": [
    "if df.size == 0:\n",
    "    print(\"Check !!\")"
   ]
  },
  {
   "cell_type": "code",
   "execution_count": 144,
   "metadata": {},
   "outputs": [],
   "source": [
    "Dummymaster = pd.DataFrame(columns=(\"sciname\",\"species\",\"genus\",\"family\",\"order\",\"class\",\"phylum\",\"superkingdom\",\"norank\"))\n",
    "classi = {'sciname': 'unclassified','species': 'unclassified','genus': 'unclassified','family': 'unclassified','order': 'unclassified','class': 'unclassified','phylum': 'unclassified','superkingdom': 'unclassified','norank': 'unclassified'}\n",
    "level = df['rank'][0]\n",
    "parent = df['parent_tax_id'][0]\n",
    "sciname = df['name_txt'][0]\n",
    "taxid = int(df['tax_id'][0])"
   ]
  },
  {
   "cell_type": "code",
   "execution_count": 100,
   "metadata": {},
   "outputs": [
    {
     "data": {
      "text/plain": [
       "int"
      ]
     },
     "execution_count": 100,
     "metadata": {},
     "output_type": "execute_result"
    }
   ],
   "source": [
    "type(taxid)"
   ]
  },
  {
   "cell_type": "code",
   "execution_count": 145,
   "metadata": {},
   "outputs": [
    {
     "data": {
      "text/plain": [
       "{'class': 'unclassified',\n",
       " 'family': 'unclassified',\n",
       " 'genus': 'unclassified',\n",
       " 'norank': 'unclassified',\n",
       " 'order': 'unclassified',\n",
       " 'phylum': 'unclassified',\n",
       " 'sciname': 'unclassified',\n",
       " 'species': 'Clostridium sp. JCC',\n",
       " 'superkingdom': 'unclassified'}"
      ]
     },
     "execution_count": 145,
     "metadata": {},
     "output_type": "execute_result"
    }
   ],
   "source": [
    "classi[level] = sciname\n",
    "classi"
   ]
  },
  {
   "cell_type": "code",
   "execution_count": 146,
   "metadata": {},
   "outputs": [
    {
     "name": "stdout",
     "output_type": "stream",
     "text": [
      "1414720\n"
     ]
    },
    {
     "data": {
      "text/html": [
       "<div>\n",
       "<style>\n",
       "    .dataframe thead tr:only-child th {\n",
       "        text-align: right;\n",
       "    }\n",
       "\n",
       "    .dataframe thead th {\n",
       "        text-align: left;\n",
       "    }\n",
       "\n",
       "    .dataframe tbody tr th {\n",
       "        vertical-align: top;\n",
       "    }\n",
       "</style>\n",
       "<table border=\"1\" class=\"dataframe\">\n",
       "  <thead>\n",
       "    <tr style=\"text-align: right;\">\n",
       "      <th></th>\n",
       "      <th>tax_id</th>\n",
       "      <th>name_txt</th>\n",
       "      <th>parent_tax_id</th>\n",
       "      <th>rank</th>\n",
       "    </tr>\n",
       "  </thead>\n",
       "  <tbody>\n",
       "    <tr>\n",
       "      <th>0</th>\n",
       "      <td>1414720</td>\n",
       "      <td>Clostridium sp. JCC</td>\n",
       "      <td>1485</td>\n",
       "      <td>species</td>\n",
       "    </tr>\n",
       "  </tbody>\n",
       "</table>\n",
       "</div>"
      ],
      "text/plain": [
       "    tax_id             name_txt  parent_tax_id     rank\n",
       "0  1414720  Clostridium sp. JCC           1485  species"
      ]
     },
     "execution_count": 146,
     "metadata": {},
     "output_type": "execute_result"
    },
    {
     "data": {
      "text/plain": [
       "{'class': 'unclassified',\n",
       " 'family': 'unclassified',\n",
       " 'genus': 'unclassified',\n",
       " 'norank': 'unclassified',\n",
       " 'order': 'unclassified',\n",
       " 'phylum': 'unclassified',\n",
       " 'sciname': 'unclassified',\n",
       " 'species': 'Clostridium sp. JCC',\n",
       " 'superkingdom': 'unclassified'}"
      ]
     },
     "execution_count": 146,
     "metadata": {},
     "output_type": "execute_result"
    },
    {
     "name": "stdout",
     "output_type": "stream",
     "text": [
      "1485\n"
     ]
    },
    {
     "data": {
      "text/html": [
       "<div>\n",
       "<style>\n",
       "    .dataframe thead tr:only-child th {\n",
       "        text-align: right;\n",
       "    }\n",
       "\n",
       "    .dataframe thead th {\n",
       "        text-align: left;\n",
       "    }\n",
       "\n",
       "    .dataframe tbody tr th {\n",
       "        vertical-align: top;\n",
       "    }\n",
       "</style>\n",
       "<table border=\"1\" class=\"dataframe\">\n",
       "  <thead>\n",
       "    <tr style=\"text-align: right;\">\n",
       "      <th></th>\n",
       "      <th>tax_id</th>\n",
       "      <th>name_txt</th>\n",
       "      <th>parent_tax_id</th>\n",
       "      <th>rank</th>\n",
       "    </tr>\n",
       "  </thead>\n",
       "  <tbody>\n",
       "    <tr>\n",
       "      <th>0</th>\n",
       "      <td>1485</td>\n",
       "      <td>Clostridium</td>\n",
       "      <td>31979</td>\n",
       "      <td>genus</td>\n",
       "    </tr>\n",
       "  </tbody>\n",
       "</table>\n",
       "</div>"
      ],
      "text/plain": [
       "   tax_id     name_txt  parent_tax_id   rank\n",
       "0    1485  Clostridium          31979  genus"
      ]
     },
     "execution_count": 146,
     "metadata": {},
     "output_type": "execute_result"
    },
    {
     "data": {
      "text/plain": [
       "{'class': 'unclassified',\n",
       " 'family': 'unclassified',\n",
       " 'genus': 'Clostridium',\n",
       " 'norank': 'unclassified',\n",
       " 'order': 'unclassified',\n",
       " 'phylum': 'unclassified',\n",
       " 'sciname': 'unclassified',\n",
       " 'species': 'Clostridium sp. JCC',\n",
       " 'superkingdom': 'unclassified'}"
      ]
     },
     "execution_count": 146,
     "metadata": {},
     "output_type": "execute_result"
    },
    {
     "name": "stdout",
     "output_type": "stream",
     "text": [
      "31979\n"
     ]
    },
    {
     "data": {
      "text/html": [
       "<div>\n",
       "<style>\n",
       "    .dataframe thead tr:only-child th {\n",
       "        text-align: right;\n",
       "    }\n",
       "\n",
       "    .dataframe thead th {\n",
       "        text-align: left;\n",
       "    }\n",
       "\n",
       "    .dataframe tbody tr th {\n",
       "        vertical-align: top;\n",
       "    }\n",
       "</style>\n",
       "<table border=\"1\" class=\"dataframe\">\n",
       "  <thead>\n",
       "    <tr style=\"text-align: right;\">\n",
       "      <th></th>\n",
       "      <th>tax_id</th>\n",
       "      <th>name_txt</th>\n",
       "      <th>parent_tax_id</th>\n",
       "      <th>rank</th>\n",
       "    </tr>\n",
       "  </thead>\n",
       "  <tbody>\n",
       "    <tr>\n",
       "      <th>0</th>\n",
       "      <td>31979</td>\n",
       "      <td>Clostridiaceae</td>\n",
       "      <td>186802</td>\n",
       "      <td>family</td>\n",
       "    </tr>\n",
       "  </tbody>\n",
       "</table>\n",
       "</div>"
      ],
      "text/plain": [
       "   tax_id        name_txt  parent_tax_id    rank\n",
       "0   31979  Clostridiaceae         186802  family"
      ]
     },
     "execution_count": 146,
     "metadata": {},
     "output_type": "execute_result"
    },
    {
     "data": {
      "text/plain": [
       "{'class': 'unclassified',\n",
       " 'family': 'Clostridiaceae',\n",
       " 'genus': 'Clostridium',\n",
       " 'norank': 'unclassified',\n",
       " 'order': 'unclassified',\n",
       " 'phylum': 'unclassified',\n",
       " 'sciname': 'unclassified',\n",
       " 'species': 'Clostridium sp. JCC',\n",
       " 'superkingdom': 'unclassified'}"
      ]
     },
     "execution_count": 146,
     "metadata": {},
     "output_type": "execute_result"
    },
    {
     "name": "stdout",
     "output_type": "stream",
     "text": [
      "186802\n"
     ]
    },
    {
     "data": {
      "text/html": [
       "<div>\n",
       "<style>\n",
       "    .dataframe thead tr:only-child th {\n",
       "        text-align: right;\n",
       "    }\n",
       "\n",
       "    .dataframe thead th {\n",
       "        text-align: left;\n",
       "    }\n",
       "\n",
       "    .dataframe tbody tr th {\n",
       "        vertical-align: top;\n",
       "    }\n",
       "</style>\n",
       "<table border=\"1\" class=\"dataframe\">\n",
       "  <thead>\n",
       "    <tr style=\"text-align: right;\">\n",
       "      <th></th>\n",
       "      <th>tax_id</th>\n",
       "      <th>name_txt</th>\n",
       "      <th>parent_tax_id</th>\n",
       "      <th>rank</th>\n",
       "    </tr>\n",
       "  </thead>\n",
       "  <tbody>\n",
       "    <tr>\n",
       "      <th>0</th>\n",
       "      <td>186802</td>\n",
       "      <td>Clostridiales</td>\n",
       "      <td>186801</td>\n",
       "      <td>order</td>\n",
       "    </tr>\n",
       "  </tbody>\n",
       "</table>\n",
       "</div>"
      ],
      "text/plain": [
       "   tax_id       name_txt  parent_tax_id   rank\n",
       "0  186802  Clostridiales         186801  order"
      ]
     },
     "execution_count": 146,
     "metadata": {},
     "output_type": "execute_result"
    },
    {
     "data": {
      "text/plain": [
       "{'class': 'unclassified',\n",
       " 'family': 'Clostridiaceae',\n",
       " 'genus': 'Clostridium',\n",
       " 'norank': 'unclassified',\n",
       " 'order': 'Clostridiales',\n",
       " 'phylum': 'unclassified',\n",
       " 'sciname': 'unclassified',\n",
       " 'species': 'Clostridium sp. JCC',\n",
       " 'superkingdom': 'unclassified'}"
      ]
     },
     "execution_count": 146,
     "metadata": {},
     "output_type": "execute_result"
    },
    {
     "name": "stdout",
     "output_type": "stream",
     "text": [
      "186801\n"
     ]
    },
    {
     "data": {
      "text/html": [
       "<div>\n",
       "<style>\n",
       "    .dataframe thead tr:only-child th {\n",
       "        text-align: right;\n",
       "    }\n",
       "\n",
       "    .dataframe thead th {\n",
       "        text-align: left;\n",
       "    }\n",
       "\n",
       "    .dataframe tbody tr th {\n",
       "        vertical-align: top;\n",
       "    }\n",
       "</style>\n",
       "<table border=\"1\" class=\"dataframe\">\n",
       "  <thead>\n",
       "    <tr style=\"text-align: right;\">\n",
       "      <th></th>\n",
       "      <th>tax_id</th>\n",
       "      <th>name_txt</th>\n",
       "      <th>parent_tax_id</th>\n",
       "      <th>rank</th>\n",
       "    </tr>\n",
       "  </thead>\n",
       "  <tbody>\n",
       "    <tr>\n",
       "      <th>0</th>\n",
       "      <td>186801</td>\n",
       "      <td>Clostridia</td>\n",
       "      <td>1239</td>\n",
       "      <td>class</td>\n",
       "    </tr>\n",
       "  </tbody>\n",
       "</table>\n",
       "</div>"
      ],
      "text/plain": [
       "   tax_id    name_txt  parent_tax_id   rank\n",
       "0  186801  Clostridia           1239  class"
      ]
     },
     "execution_count": 146,
     "metadata": {},
     "output_type": "execute_result"
    },
    {
     "data": {
      "text/plain": [
       "{'class': 'Clostridia',\n",
       " 'family': 'Clostridiaceae',\n",
       " 'genus': 'Clostridium',\n",
       " 'norank': 'unclassified',\n",
       " 'order': 'Clostridiales',\n",
       " 'phylum': 'unclassified',\n",
       " 'sciname': 'unclassified',\n",
       " 'species': 'Clostridium sp. JCC',\n",
       " 'superkingdom': 'unclassified'}"
      ]
     },
     "execution_count": 146,
     "metadata": {},
     "output_type": "execute_result"
    },
    {
     "name": "stdout",
     "output_type": "stream",
     "text": [
      "1239\n"
     ]
    },
    {
     "data": {
      "text/html": [
       "<div>\n",
       "<style>\n",
       "    .dataframe thead tr:only-child th {\n",
       "        text-align: right;\n",
       "    }\n",
       "\n",
       "    .dataframe thead th {\n",
       "        text-align: left;\n",
       "    }\n",
       "\n",
       "    .dataframe tbody tr th {\n",
       "        vertical-align: top;\n",
       "    }\n",
       "</style>\n",
       "<table border=\"1\" class=\"dataframe\">\n",
       "  <thead>\n",
       "    <tr style=\"text-align: right;\">\n",
       "      <th></th>\n",
       "      <th>tax_id</th>\n",
       "      <th>name_txt</th>\n",
       "      <th>parent_tax_id</th>\n",
       "      <th>rank</th>\n",
       "    </tr>\n",
       "  </thead>\n",
       "  <tbody>\n",
       "    <tr>\n",
       "      <th>0</th>\n",
       "      <td>1239</td>\n",
       "      <td>Firmicutes</td>\n",
       "      <td>1783272</td>\n",
       "      <td>phylum</td>\n",
       "    </tr>\n",
       "  </tbody>\n",
       "</table>\n",
       "</div>"
      ],
      "text/plain": [
       "   tax_id    name_txt  parent_tax_id    rank\n",
       "0    1239  Firmicutes        1783272  phylum"
      ]
     },
     "execution_count": 146,
     "metadata": {},
     "output_type": "execute_result"
    },
    {
     "data": {
      "text/plain": [
       "{'class': 'Clostridia',\n",
       " 'family': 'Clostridiaceae',\n",
       " 'genus': 'Clostridium',\n",
       " 'norank': 'unclassified',\n",
       " 'order': 'Clostridiales',\n",
       " 'phylum': 'Firmicutes',\n",
       " 'sciname': 'unclassified',\n",
       " 'species': 'Clostridium sp. JCC',\n",
       " 'superkingdom': 'unclassified'}"
      ]
     },
     "execution_count": 146,
     "metadata": {},
     "output_type": "execute_result"
    },
    {
     "name": "stdout",
     "output_type": "stream",
     "text": [
      "1783272\n"
     ]
    },
    {
     "data": {
      "text/html": [
       "<div>\n",
       "<style>\n",
       "    .dataframe thead tr:only-child th {\n",
       "        text-align: right;\n",
       "    }\n",
       "\n",
       "    .dataframe thead th {\n",
       "        text-align: left;\n",
       "    }\n",
       "\n",
       "    .dataframe tbody tr th {\n",
       "        vertical-align: top;\n",
       "    }\n",
       "</style>\n",
       "<table border=\"1\" class=\"dataframe\">\n",
       "  <thead>\n",
       "    <tr style=\"text-align: right;\">\n",
       "      <th></th>\n",
       "      <th>tax_id</th>\n",
       "      <th>name_txt</th>\n",
       "      <th>parent_tax_id</th>\n",
       "      <th>rank</th>\n",
       "    </tr>\n",
       "  </thead>\n",
       "  <tbody>\n",
       "    <tr>\n",
       "      <th>0</th>\n",
       "      <td>1783272</td>\n",
       "      <td>Terrabacteria group</td>\n",
       "      <td>2</td>\n",
       "      <td>norank</td>\n",
       "    </tr>\n",
       "  </tbody>\n",
       "</table>\n",
       "</div>"
      ],
      "text/plain": [
       "    tax_id             name_txt  parent_tax_id    rank\n",
       "0  1783272  Terrabacteria group              2  norank"
      ]
     },
     "execution_count": 146,
     "metadata": {},
     "output_type": "execute_result"
    },
    {
     "data": {
      "text/plain": [
       "{'class': 'Clostridia',\n",
       " 'family': 'Clostridiaceae',\n",
       " 'genus': 'Clostridium',\n",
       " 'norank': 'Terrabacteria group',\n",
       " 'order': 'Clostridiales',\n",
       " 'phylum': 'Firmicutes',\n",
       " 'sciname': 'unclassified',\n",
       " 'species': 'Clostridium sp. JCC',\n",
       " 'superkingdom': 'unclassified'}"
      ]
     },
     "execution_count": 146,
     "metadata": {},
     "output_type": "execute_result"
    },
    {
     "name": "stdout",
     "output_type": "stream",
     "text": [
      "2\n"
     ]
    },
    {
     "data": {
      "text/html": [
       "<div>\n",
       "<style>\n",
       "    .dataframe thead tr:only-child th {\n",
       "        text-align: right;\n",
       "    }\n",
       "\n",
       "    .dataframe thead th {\n",
       "        text-align: left;\n",
       "    }\n",
       "\n",
       "    .dataframe tbody tr th {\n",
       "        vertical-align: top;\n",
       "    }\n",
       "</style>\n",
       "<table border=\"1\" class=\"dataframe\">\n",
       "  <thead>\n",
       "    <tr style=\"text-align: right;\">\n",
       "      <th></th>\n",
       "      <th>tax_id</th>\n",
       "      <th>name_txt</th>\n",
       "      <th>parent_tax_id</th>\n",
       "      <th>rank</th>\n",
       "    </tr>\n",
       "  </thead>\n",
       "  <tbody>\n",
       "    <tr>\n",
       "      <th>0</th>\n",
       "      <td>2</td>\n",
       "      <td>Bacteria</td>\n",
       "      <td>131567</td>\n",
       "      <td>superkingdom</td>\n",
       "    </tr>\n",
       "  </tbody>\n",
       "</table>\n",
       "</div>"
      ],
      "text/plain": [
       "   tax_id  name_txt  parent_tax_id          rank\n",
       "0       2  Bacteria         131567  superkingdom"
      ]
     },
     "execution_count": 146,
     "metadata": {},
     "output_type": "execute_result"
    },
    {
     "data": {
      "text/plain": [
       "{'class': 'Clostridia',\n",
       " 'family': 'Clostridiaceae',\n",
       " 'genus': 'Clostridium',\n",
       " 'norank': 'Terrabacteria group',\n",
       " 'order': 'Clostridiales',\n",
       " 'phylum': 'Firmicutes',\n",
       " 'sciname': 'unclassified',\n",
       " 'species': 'Clostridium sp. JCC',\n",
       " 'superkingdom': 'Bacteria'}"
      ]
     },
     "execution_count": 146,
     "metadata": {},
     "output_type": "execute_result"
    },
    {
     "name": "stdout",
     "output_type": "stream",
     "text": [
      "131567\n"
     ]
    },
    {
     "data": {
      "text/html": [
       "<div>\n",
       "<style>\n",
       "    .dataframe thead tr:only-child th {\n",
       "        text-align: right;\n",
       "    }\n",
       "\n",
       "    .dataframe thead th {\n",
       "        text-align: left;\n",
       "    }\n",
       "\n",
       "    .dataframe tbody tr th {\n",
       "        vertical-align: top;\n",
       "    }\n",
       "</style>\n",
       "<table border=\"1\" class=\"dataframe\">\n",
       "  <thead>\n",
       "    <tr style=\"text-align: right;\">\n",
       "      <th></th>\n",
       "      <th>tax_id</th>\n",
       "      <th>name_txt</th>\n",
       "      <th>parent_tax_id</th>\n",
       "      <th>rank</th>\n",
       "    </tr>\n",
       "  </thead>\n",
       "  <tbody>\n",
       "    <tr>\n",
       "      <th>0</th>\n",
       "      <td>131567</td>\n",
       "      <td>cellular organisms</td>\n",
       "      <td>1</td>\n",
       "      <td>norank</td>\n",
       "    </tr>\n",
       "  </tbody>\n",
       "</table>\n",
       "</div>"
      ],
      "text/plain": [
       "   tax_id            name_txt  parent_tax_id    rank\n",
       "0  131567  cellular organisms              1  norank"
      ]
     },
     "execution_count": 146,
     "metadata": {},
     "output_type": "execute_result"
    },
    {
     "data": {
      "text/plain": [
       "{'class': 'Clostridia',\n",
       " 'family': 'Clostridiaceae',\n",
       " 'genus': 'Clostridium',\n",
       " 'norank': 'cellular organisms',\n",
       " 'order': 'Clostridiales',\n",
       " 'phylum': 'Firmicutes',\n",
       " 'sciname': 'unclassified',\n",
       " 'species': 'Clostridium sp. JCC',\n",
       " 'superkingdom': 'Bacteria'}"
      ]
     },
     "execution_count": 146,
     "metadata": {},
     "output_type": "execute_result"
    }
   ],
   "source": [
    "from IPython.core.interactiveshell import InteractiveShell\n",
    "InteractiveShell.ast_node_interactivity = \"all\"\n",
    "\n",
    "while parent != 1:\n",
    "    print(taxid)\n",
    "    con = sqlite3.connect(\"NameNode.sqlite\")\n",
    "    df = pd.read_sql_query(\"SELECT tax_id, name_txt,parent_tax_id, rank FROM NcbiNameNode WHERE tax_id == ? AND name_class == 'scientific name'\", con = con, params=(taxid,))\n",
    "    con.close()\n",
    "    df\n",
    "    level = df['rank'][0]\n",
    "    parent = df['parent_tax_id'][0]\n",
    "    sciname = df['name_txt'][0]\n",
    "    #tax_id = df['tax_id'][0]\n",
    "    taxid = int(df['parent_tax_id'][0])\n",
    "    classi[level] = sciname\n",
    "    classi"
   ]
  },
  {
   "cell_type": "code",
   "execution_count": 23,
   "metadata": {},
   "outputs": [
    {
     "ename": "IndexError",
     "evalue": "index out of bounds",
     "output_type": "error",
     "traceback": [
      "\u001b[0;31m---------------------------------------------------------------------------\u001b[0m",
      "\u001b[0;31mKeyError\u001b[0m                                  Traceback (most recent call last)",
      "\u001b[0;32m~/anaconda3/lib/python3.6/site-packages/pandas/core/indexes/base.py\u001b[0m in \u001b[0;36mget_value\u001b[0;34m(self, series, key)\u001b[0m\n\u001b[1;32m   2476\u001b[0m             return self._engine.get_value(s, k,\n\u001b[0;32m-> 2477\u001b[0;31m                                           tz=getattr(series.dtype, 'tz', None))\n\u001b[0m\u001b[1;32m   2478\u001b[0m         \u001b[0;32mexcept\u001b[0m \u001b[0mKeyError\u001b[0m \u001b[0;32mas\u001b[0m \u001b[0me1\u001b[0m\u001b[0;34m:\u001b[0m\u001b[0;34m\u001b[0m\u001b[0m\n",
      "\u001b[0;32mpandas/_libs/index.pyx\u001b[0m in \u001b[0;36mpandas._libs.index.IndexEngine.get_value\u001b[0;34m()\u001b[0m\n",
      "\u001b[0;32mpandas/_libs/index.pyx\u001b[0m in \u001b[0;36mpandas._libs.index.IndexEngine.get_value\u001b[0;34m()\u001b[0m\n",
      "\u001b[0;32mpandas/_libs/index.pyx\u001b[0m in \u001b[0;36mpandas._libs.index.IndexEngine.get_loc\u001b[0;34m()\u001b[0m\n",
      "\u001b[0;32mpandas/_libs/hashtable_class_helper.pxi\u001b[0m in \u001b[0;36mpandas._libs.hashtable.PyObjectHashTable.get_item\u001b[0;34m()\u001b[0m\n",
      "\u001b[0;32mpandas/_libs/hashtable_class_helper.pxi\u001b[0m in \u001b[0;36mpandas._libs.hashtable.PyObjectHashTable.get_item\u001b[0;34m()\u001b[0m\n",
      "\u001b[0;31mKeyError\u001b[0m: 0",
      "\nDuring handling of the above exception, another exception occurred:\n",
      "\u001b[0;31mIndexError\u001b[0m                                Traceback (most recent call last)",
      "\u001b[0;32m<ipython-input-23-3f523ec3b52e>\u001b[0m in \u001b[0;36m<module>\u001b[0;34m()\u001b[0m\n\u001b[1;32m     16\u001b[0m \u001b[0mDummymaster\u001b[0m \u001b[0;34m=\u001b[0m \u001b[0mpd\u001b[0m\u001b[0;34m.\u001b[0m\u001b[0mDataFrame\u001b[0m\u001b[0;34m(\u001b[0m\u001b[0mcolumns\u001b[0m\u001b[0;34m=\u001b[0m\u001b[0;34m(\u001b[0m\u001b[0;34m\"species\"\u001b[0m\u001b[0;34m,\u001b[0m\u001b[0;34m\"genus\"\u001b[0m\u001b[0;34m,\u001b[0m\u001b[0;34m\"family\"\u001b[0m\u001b[0;34m,\u001b[0m\u001b[0;34m\"order\"\u001b[0m\u001b[0;34m,\u001b[0m\u001b[0;34m\"class\"\u001b[0m\u001b[0;34m,\u001b[0m\u001b[0;34m\"phylum\"\u001b[0m\u001b[0;34m,\u001b[0m\u001b[0;34m\"superkingdom\"\u001b[0m\u001b[0;34m,\u001b[0m\u001b[0;34m\"norank\"\u001b[0m\u001b[0;34m)\u001b[0m\u001b[0;34m)\u001b[0m\u001b[0;34m\u001b[0m\u001b[0m\n\u001b[1;32m     17\u001b[0m \u001b[0mclassi\u001b[0m \u001b[0;34m=\u001b[0m \u001b[0;34m{\u001b[0m\u001b[0;34m'species'\u001b[0m\u001b[0;34m:\u001b[0m \u001b[0;34m'unclassified'\u001b[0m\u001b[0;34m,\u001b[0m\u001b[0;34m'genus'\u001b[0m\u001b[0;34m:\u001b[0m \u001b[0;34m'unclassified'\u001b[0m\u001b[0;34m,\u001b[0m\u001b[0;34m'family'\u001b[0m\u001b[0;34m:\u001b[0m \u001b[0;34m'unclassified'\u001b[0m\u001b[0;34m,\u001b[0m\u001b[0;34m'order'\u001b[0m\u001b[0;34m:\u001b[0m \u001b[0;34m'unclassified'\u001b[0m\u001b[0;34m,\u001b[0m\u001b[0;34m'class'\u001b[0m\u001b[0;34m:\u001b[0m \u001b[0;34m'unclassified'\u001b[0m\u001b[0;34m,\u001b[0m\u001b[0;34m'phylum'\u001b[0m\u001b[0;34m:\u001b[0m \u001b[0;34m'unclassified'\u001b[0m\u001b[0;34m,\u001b[0m\u001b[0;34m'superkingdom'\u001b[0m\u001b[0;34m:\u001b[0m \u001b[0;34m'unclassified'\u001b[0m\u001b[0;34m,\u001b[0m\u001b[0;34m'norank'\u001b[0m\u001b[0;34m:\u001b[0m \u001b[0;34m'unclassified'\u001b[0m\u001b[0;34m}\u001b[0m\u001b[0;34m\u001b[0m\u001b[0m\n\u001b[0;32m---> 18\u001b[0;31m \u001b[0mlevel\u001b[0m \u001b[0;34m=\u001b[0m \u001b[0mdf\u001b[0m\u001b[0;34m[\u001b[0m\u001b[0;34m'rank'\u001b[0m\u001b[0;34m]\u001b[0m\u001b[0;34m[\u001b[0m\u001b[0;36m0\u001b[0m\u001b[0;34m]\u001b[0m\u001b[0;34m\u001b[0m\u001b[0m\n\u001b[0m\u001b[1;32m     19\u001b[0m \u001b[0mparent\u001b[0m \u001b[0;34m=\u001b[0m \u001b[0mdf\u001b[0m\u001b[0;34m[\u001b[0m\u001b[0;34m'parent_tax_id'\u001b[0m\u001b[0;34m]\u001b[0m\u001b[0;34m[\u001b[0m\u001b[0;36m0\u001b[0m\u001b[0;34m]\u001b[0m\u001b[0;34m\u001b[0m\u001b[0m\n\u001b[1;32m     20\u001b[0m \u001b[0msciname\u001b[0m \u001b[0;34m=\u001b[0m \u001b[0mdf\u001b[0m\u001b[0;34m[\u001b[0m\u001b[0;34m'name_txt'\u001b[0m\u001b[0;34m]\u001b[0m\u001b[0;34m[\u001b[0m\u001b[0;36m0\u001b[0m\u001b[0;34m]\u001b[0m\u001b[0;34m\u001b[0m\u001b[0m\n",
      "\u001b[0;32m~/anaconda3/lib/python3.6/site-packages/pandas/core/series.py\u001b[0m in \u001b[0;36m__getitem__\u001b[0;34m(self, key)\u001b[0m\n\u001b[1;32m    599\u001b[0m         \u001b[0mkey\u001b[0m \u001b[0;34m=\u001b[0m \u001b[0mcom\u001b[0m\u001b[0;34m.\u001b[0m\u001b[0m_apply_if_callable\u001b[0m\u001b[0;34m(\u001b[0m\u001b[0mkey\u001b[0m\u001b[0;34m,\u001b[0m \u001b[0mself\u001b[0m\u001b[0;34m)\u001b[0m\u001b[0;34m\u001b[0m\u001b[0m\n\u001b[1;32m    600\u001b[0m         \u001b[0;32mtry\u001b[0m\u001b[0;34m:\u001b[0m\u001b[0;34m\u001b[0m\u001b[0m\n\u001b[0;32m--> 601\u001b[0;31m             \u001b[0mresult\u001b[0m \u001b[0;34m=\u001b[0m \u001b[0mself\u001b[0m\u001b[0;34m.\u001b[0m\u001b[0mindex\u001b[0m\u001b[0;34m.\u001b[0m\u001b[0mget_value\u001b[0m\u001b[0;34m(\u001b[0m\u001b[0mself\u001b[0m\u001b[0;34m,\u001b[0m \u001b[0mkey\u001b[0m\u001b[0;34m)\u001b[0m\u001b[0;34m\u001b[0m\u001b[0m\n\u001b[0m\u001b[1;32m    602\u001b[0m \u001b[0;34m\u001b[0m\u001b[0m\n\u001b[1;32m    603\u001b[0m             \u001b[0;32mif\u001b[0m \u001b[0;32mnot\u001b[0m \u001b[0mis_scalar\u001b[0m\u001b[0;34m(\u001b[0m\u001b[0mresult\u001b[0m\u001b[0;34m)\u001b[0m\u001b[0;34m:\u001b[0m\u001b[0;34m\u001b[0m\u001b[0m\n",
      "\u001b[0;32m~/anaconda3/lib/python3.6/site-packages/pandas/core/indexes/base.py\u001b[0m in \u001b[0;36mget_value\u001b[0;34m(self, series, key)\u001b[0m\n\u001b[1;32m   2481\u001b[0m \u001b[0;34m\u001b[0m\u001b[0m\n\u001b[1;32m   2482\u001b[0m             \u001b[0;32mtry\u001b[0m\u001b[0;34m:\u001b[0m\u001b[0;34m\u001b[0m\u001b[0m\n\u001b[0;32m-> 2483\u001b[0;31m                 \u001b[0;32mreturn\u001b[0m \u001b[0mlibts\u001b[0m\u001b[0;34m.\u001b[0m\u001b[0mget_value_box\u001b[0m\u001b[0;34m(\u001b[0m\u001b[0ms\u001b[0m\u001b[0;34m,\u001b[0m \u001b[0mkey\u001b[0m\u001b[0;34m)\u001b[0m\u001b[0;34m\u001b[0m\u001b[0m\n\u001b[0m\u001b[1;32m   2484\u001b[0m             \u001b[0;32mexcept\u001b[0m \u001b[0mIndexError\u001b[0m\u001b[0;34m:\u001b[0m\u001b[0;34m\u001b[0m\u001b[0m\n\u001b[1;32m   2485\u001b[0m                 \u001b[0;32mraise\u001b[0m\u001b[0;34m\u001b[0m\u001b[0m\n",
      "\u001b[0;32mpandas/_libs/tslib.pyx\u001b[0m in \u001b[0;36mpandas._libs.tslib.get_value_box (pandas/_libs/tslib.c:18843)\u001b[0;34m()\u001b[0m\n",
      "\u001b[0;32mpandas/_libs/tslib.pyx\u001b[0m in \u001b[0;36mpandas._libs.tslib.get_value_box (pandas/_libs/tslib.c:18560)\u001b[0;34m()\u001b[0m\n",
      "\u001b[0;31mIndexError\u001b[0m: index out of bounds"
     ]
    }
   ],
   "source": [
    "# using dictionary\n",
    "import time\n",
    "from IPython.core.interactiveshell import InteractiveShell\n",
    "InteractiveShell.ast_node_interactivity = \"all\"\n",
    "\n",
    "start = time.time()\n",
    "import sqlite3\n",
    "import pandas as pd\n",
    "# Read sqlite query results into a pandas DataFrame\n",
    "con = sqlite3.connect(\"NameNode.sqlite\")\n",
    "# 1414720 # 175139 # 175429 # 175439 # 175128\n",
    "df = pd.read_sql_query(\"SELECT tax_id, name_txt,parent_tax_id, rank FROM NcbiNameNode WHERE tax_id == 175128 AND name_class == 'scientific name'\", con)\n",
    "con.close()\n",
    "#df\n",
    "\n",
    "Dummymaster = pd.DataFrame(columns=(\"species\",\"genus\",\"family\",\"order\",\"class\",\"phylum\",\"superkingdom\",\"norank\"))\n",
    "classi = {'species': 'unclassified','genus': 'unclassified','family': 'unclassified','order': 'unclassified','class': 'unclassified','phylum': 'unclassified','superkingdom': 'unclassified','norank': 'unclassified'}\n",
    "level = df['rank'][0]\n",
    "parent = df['parent_tax_id'][0]\n",
    "sciname = df['name_txt'][0]\n",
    "taxid = int(df['tax_id'][0])\n",
    "\n",
    "while parent != 1:\n",
    "    print(taxid)\n",
    "    con = sqlite3.connect(\"NameNode.sqlite\")\n",
    "    df = pd.read_sql_query(\"SELECT tax_id, name_txt,parent_tax_id, rank FROM NcbiNameNode WHERE tax_id == ? AND name_class == 'scientific name'\", con = con, params=(taxid,))\n",
    "    con.close()\n",
    "    #df\n",
    "    level = df['rank'][0]\n",
    "    parent = df['parent_tax_id'][0]\n",
    "    sciname = df['name_txt'][0]\n",
    "    #tax_id = df['tax_id'][0]\n",
    "    taxid = int(df['parent_tax_id'][0])\n",
    "    classi[level] = sciname\n",
    "    #classi\n",
    "# df = pd.DataFrame.from_dict(sales)\n",
    "temp = pd.DataFrame.from_dict([classi])\n",
    "temp = temp[['species','genus','family','order','class','phylum','superkingdom','norank']]\n",
    "temp\n",
    "#Dummymaster = Dummymaster.append(temp)\n",
    "Dummymaster = pd.concat([Dummymaster,temp],axis=0,join='outer')\n",
    "Dummymaster\n",
    "stop = time.time()\n",
    "duration = stop - start\n",
    "print(duration)"
   ]
  },
  {
   "cell_type": "code",
   "execution_count": 3,
   "metadata": {},
   "outputs": [
    {
     "name": "stdout",
     "output_type": "stream",
     "text": [
      "1414720\n",
      "1485\n",
      "31979\n",
      "186802\n",
      "186801\n",
      "1239\n",
      "1783272\n",
      "2\n",
      "131567\n"
     ]
    },
    {
     "data": {
      "text/html": [
       "<div>\n",
       "<style>\n",
       "    .dataframe thead tr:only-child th {\n",
       "        text-align: right;\n",
       "    }\n",
       "\n",
       "    .dataframe thead th {\n",
       "        text-align: left;\n",
       "    }\n",
       "\n",
       "    .dataframe tbody tr th {\n",
       "        vertical-align: top;\n",
       "    }\n",
       "</style>\n",
       "<table border=\"1\" class=\"dataframe\">\n",
       "  <thead>\n",
       "    <tr style=\"text-align: right;\">\n",
       "      <th></th>\n",
       "      <th>species</th>\n",
       "      <th>genus</th>\n",
       "      <th>family</th>\n",
       "      <th>order</th>\n",
       "      <th>class</th>\n",
       "      <th>phylum</th>\n",
       "      <th>superkingdom</th>\n",
       "      <th>norank</th>\n",
       "    </tr>\n",
       "  </thead>\n",
       "  <tbody>\n",
       "    <tr>\n",
       "      <th>0</th>\n",
       "      <td>Clostridium sp. JCC</td>\n",
       "      <td>Clostridium</td>\n",
       "      <td>Clostridiaceae</td>\n",
       "      <td>Clostridiales</td>\n",
       "      <td>Clostridia</td>\n",
       "      <td>Firmicutes</td>\n",
       "      <td>Bacteria</td>\n",
       "      <td>cellular organisms</td>\n",
       "    </tr>\n",
       "  </tbody>\n",
       "</table>\n",
       "</div>"
      ],
      "text/plain": [
       "               species        genus          family          order  \\\n",
       "0  Clostridium sp. JCC  Clostridium  Clostridiaceae  Clostridiales   \n",
       "\n",
       "        class      phylum superkingdom              norank  \n",
       "0  Clostridia  Firmicutes     Bacteria  cellular organisms  "
      ]
     },
     "execution_count": 3,
     "metadata": {},
     "output_type": "execute_result"
    },
    {
     "name": "stdout",
     "output_type": "stream",
     "text": [
      "0.09469199180603027\n"
     ]
    }
   ],
   "source": [
    "# using dataframe only. Takes longer (almost twice as long as the dictionary way based on time output)\n",
    "import time\n",
    "from IPython.core.interactiveshell import InteractiveShell\n",
    "InteractiveShell.ast_node_interactivity = \"all\"\n",
    "\n",
    "start = time.time()\n",
    "import sqlite3\n",
    "import pandas as pd\n",
    "# Read sqlite query results into a pandas DataFrame\n",
    "con = sqlite3.connect(\"NameNode.sqlite\")\n",
    "df = pd.read_sql_query(\"SELECT tax_id, name_txt,parent_tax_id, rank FROM NcbiNameNode WHERE tax_id == 1414720\", con)\n",
    "con.close()\n",
    "#df\n",
    "\n",
    "Dummymaster = pd.DataFrame(columns=(\"species\",\"genus\",\"family\",\"order\",\"class\",\"phylum\",\"superkingdom\",\"norank\"))\n",
    "classi = pd.DataFrame({'species': 'unclassified','genus': 'unclassified','family': 'unclassified','order': 'unclassified','class': 'unclassified','phylum': 'unclassified','superkingdom': 'unclassified','norank': 'unclassified'}, index=[0])\n",
    "classi = classi[['species','genus','family','order','class','phylum','superkingdom','norank']]\n",
    "level = df['rank'][0]\n",
    "parent = df['parent_tax_id'][0]\n",
    "sciname = df['name_txt'][0]\n",
    "taxid = int(df['tax_id'][0])\n",
    "\n",
    "while parent != 1:\n",
    "    print(taxid)\n",
    "    con = sqlite3.connect(\"NameNode.sqlite\")\n",
    "    df = pd.read_sql_query(\"SELECT tax_id, name_txt,parent_tax_id, rank FROM NcbiNameNode WHERE tax_id == ? AND name_class == 'scientific name'\", con = con, params=(taxid,))\n",
    "    con.close()\n",
    "    #df\n",
    "    level = df['rank'][0]\n",
    "    parent = df['parent_tax_id'][0]\n",
    "    sciname = df['name_txt'][0]\n",
    "    #tax_id = df['tax_id'][0]\n",
    "    taxid = int(df['parent_tax_id'][0])\n",
    "    classi[level] = sciname\n",
    "    #classi\n",
    "\n",
    "Dummymaster = pd.concat([Dummymaster,classi],axis=0,join='outer')\n",
    "Dummymaster\n",
    "\n",
    "stop = time.time()\n",
    "duration = stop - start\n",
    "print(duration)"
   ]
  },
  {
   "cell_type": "code",
   "execution_count": 56,
   "metadata": {},
   "outputs": [
    {
     "data": {
      "text/html": [
       "<div>\n",
       "<style>\n",
       "    .dataframe thead tr:only-child th {\n",
       "        text-align: right;\n",
       "    }\n",
       "\n",
       "    .dataframe thead th {\n",
       "        text-align: left;\n",
       "    }\n",
       "\n",
       "    .dataframe tbody tr th {\n",
       "        vertical-align: top;\n",
       "    }\n",
       "</style>\n",
       "<table border=\"1\" class=\"dataframe\">\n",
       "  <thead>\n",
       "    <tr style=\"text-align: right;\">\n",
       "      <th></th>\n",
       "      <th>sciname</th>\n",
       "      <th>species</th>\n",
       "      <th>genus</th>\n",
       "      <th>family</th>\n",
       "      <th>order</th>\n",
       "      <th>class</th>\n",
       "      <th>phylum</th>\n",
       "      <th>superkingdom</th>\n",
       "      <th>norank</th>\n",
       "    </tr>\n",
       "  </thead>\n",
       "  <tbody>\n",
       "  </tbody>\n",
       "</table>\n",
       "</div>"
      ],
      "text/plain": [
       "Empty DataFrame\n",
       "Columns: [sciname, species, genus, family, order, class, phylum, superkingdom, norank]\n",
       "Index: []"
      ]
     },
     "execution_count": 56,
     "metadata": {},
     "output_type": "execute_result"
    }
   ],
   "source": [
    "Dummymaster = pd.DataFrame(columns=(\"sciname\",\"species\",\"genus\",\"family\",\"order\",\"class\",\"phylum\",\"superkingdom\",\"norank\"))\n",
    "\n",
    "#if  df.shape[0] == 1:\n",
    "def getlevel(Dummymaster,df,x):\n",
    "    if(x == \"species\"):\n",
    "        Dummymaster.loc[0][\"species\"] = df.loc[0][\"name_txt\"]\n",
    "    return Dummymaster\n",
    "x = df.loc[0][\"rank\"]\n",
    "#x\n",
    "#getlevel(Dummymaster,df,x)\n",
    "#Dummymaster"
   ]
  },
  {
   "cell_type": "code",
   "execution_count": 83,
   "metadata": {},
   "outputs": [
    {
     "data": {
      "text/html": [
       "<div>\n",
       "<style scoped>\n",
       "    .dataframe tbody tr th:only-of-type {\n",
       "        vertical-align: middle;\n",
       "    }\n",
       "\n",
       "    .dataframe tbody tr th {\n",
       "        vertical-align: top;\n",
       "    }\n",
       "\n",
       "    .dataframe thead th {\n",
       "        text-align: right;\n",
       "    }\n",
       "</style>\n",
       "<table border=\"1\" class=\"dataframe\">\n",
       "  <thead>\n",
       "    <tr style=\"text-align: right;\">\n",
       "      <th></th>\n",
       "      <th>tax_id</th>\n",
       "      <th>name_txt</th>\n",
       "      <th>unique_name</th>\n",
       "      <th>name_class</th>\n",
       "      <th>parent_tax_id</th>\n",
       "      <th>rank</th>\n",
       "    </tr>\n",
       "  </thead>\n",
       "  <tbody>\n",
       "    <tr>\n",
       "      <th>0</th>\n",
       "      <td>1</td>\n",
       "      <td>all</td>\n",
       "      <td></td>\n",
       "      <td>synonym</td>\n",
       "      <td>1</td>\n",
       "      <td>norank</td>\n",
       "    </tr>\n",
       "    <tr>\n",
       "      <th>1</th>\n",
       "      <td>1</td>\n",
       "      <td>root</td>\n",
       "      <td></td>\n",
       "      <td>scientific name</td>\n",
       "      <td>1</td>\n",
       "      <td>norank</td>\n",
       "    </tr>\n",
       "    <tr>\n",
       "      <th>2</th>\n",
       "      <td>2</td>\n",
       "      <td>Bacteria</td>\n",
       "      <td>Bacteria &lt;prokaryote&gt;</td>\n",
       "      <td>scientific name</td>\n",
       "      <td>131567</td>\n",
       "      <td>superkingdom</td>\n",
       "    </tr>\n",
       "    <tr>\n",
       "      <th>3</th>\n",
       "      <td>2</td>\n",
       "      <td>Monera</td>\n",
       "      <td>Monera &lt;Bacteria&gt;</td>\n",
       "      <td>in-part</td>\n",
       "      <td>131567</td>\n",
       "      <td>superkingdom</td>\n",
       "    </tr>\n",
       "    <tr>\n",
       "      <th>4</th>\n",
       "      <td>2</td>\n",
       "      <td>Procaryotae</td>\n",
       "      <td>Procaryotae &lt;Bacteria&gt;</td>\n",
       "      <td>in-part</td>\n",
       "      <td>131567</td>\n",
       "      <td>superkingdom</td>\n",
       "    </tr>\n",
       "  </tbody>\n",
       "</table>\n",
       "</div>"
      ],
      "text/plain": [
       "   tax_id     name_txt             unique_name       name_class  \\\n",
       "0       1          all                                  synonym   \n",
       "1       1         root                          scientific name   \n",
       "2       2     Bacteria   Bacteria <prokaryote>  scientific name   \n",
       "3       2       Monera       Monera <Bacteria>          in-part   \n",
       "4       2  Procaryotae  Procaryotae <Bacteria>          in-part   \n",
       "\n",
       "   parent_tax_id          rank  \n",
       "0              1        norank  \n",
       "1              1        norank  \n",
       "2         131567  superkingdom  \n",
       "3         131567  superkingdom  \n",
       "4         131567  superkingdom  "
      ]
     },
     "execution_count": 83,
     "metadata": {},
     "output_type": "execute_result"
    }
   ],
   "source": [
    "#import pandas as pd\n",
    "#import sqlite3\n",
    "\n",
    "# for single table\n",
    "#conn = sqlite3.connect('/home/neha/Documents/whale/metagenome/HiSeq/whaleScripts/NameNode.sqlite')\n",
    "#tab = pd.read_sql_query(\"SELECT * from NcbiNameNode\", conn)\n",
    "#conn.close()"
   ]
  },
  {
   "cell_type": "code",
   "execution_count": null,
   "metadata": {
    "collapsed": true
   },
   "outputs": [],
   "source": []
  },
  {
   "cell_type": "code",
   "execution_count": 85,
   "metadata": {},
   "outputs": [
    {
     "data": {
      "text/html": [
       "<div>\n",
       "<style scoped>\n",
       "    .dataframe tbody tr th:only-of-type {\n",
       "        vertical-align: middle;\n",
       "    }\n",
       "\n",
       "    .dataframe tbody tr th {\n",
       "        vertical-align: top;\n",
       "    }\n",
       "\n",
       "    .dataframe thead th {\n",
       "        text-align: right;\n",
       "    }\n",
       "</style>\n",
       "<table border=\"1\" class=\"dataframe\">\n",
       "  <thead>\n",
       "    <tr style=\"text-align: right;\">\n",
       "      <th></th>\n",
       "      <th>tax_id</th>\n",
       "      <th>name_txt</th>\n",
       "      <th>unique_name</th>\n",
       "      <th>name_class</th>\n",
       "      <th>parent_tax_id</th>\n",
       "      <th>rank</th>\n",
       "    </tr>\n",
       "  </thead>\n",
       "  <tbody>\n",
       "    <tr>\n",
       "      <th>0</th>\n",
       "      <td>1</td>\n",
       "      <td>all</td>\n",
       "      <td></td>\n",
       "      <td>synonym</td>\n",
       "      <td>1</td>\n",
       "      <td>norank</td>\n",
       "    </tr>\n",
       "    <tr>\n",
       "      <th>1</th>\n",
       "      <td>1</td>\n",
       "      <td>root</td>\n",
       "      <td></td>\n",
       "      <td>scientific name</td>\n",
       "      <td>1</td>\n",
       "      <td>norank</td>\n",
       "    </tr>\n",
       "    <tr>\n",
       "      <th>2</th>\n",
       "      <td>2</td>\n",
       "      <td>Bacteria</td>\n",
       "      <td>Bacteria &lt;prokaryote&gt;</td>\n",
       "      <td>scientific name</td>\n",
       "      <td>131567</td>\n",
       "      <td>superkingdom</td>\n",
       "    </tr>\n",
       "    <tr>\n",
       "      <th>3</th>\n",
       "      <td>2</td>\n",
       "      <td>Monera</td>\n",
       "      <td>Monera &lt;Bacteria&gt;</td>\n",
       "      <td>in-part</td>\n",
       "      <td>131567</td>\n",
       "      <td>superkingdom</td>\n",
       "    </tr>\n",
       "    <tr>\n",
       "      <th>4</th>\n",
       "      <td>2</td>\n",
       "      <td>Procaryotae</td>\n",
       "      <td>Procaryotae &lt;Bacteria&gt;</td>\n",
       "      <td>in-part</td>\n",
       "      <td>131567</td>\n",
       "      <td>superkingdom</td>\n",
       "    </tr>\n",
       "    <tr>\n",
       "      <th>5</th>\n",
       "      <td>2</td>\n",
       "      <td>Prokaryota</td>\n",
       "      <td>Prokaryota &lt;Bacteria&gt;</td>\n",
       "      <td>in-part</td>\n",
       "      <td>131567</td>\n",
       "      <td>superkingdom</td>\n",
       "    </tr>\n",
       "    <tr>\n",
       "      <th>6</th>\n",
       "      <td>2</td>\n",
       "      <td>Prokaryotae</td>\n",
       "      <td>Prokaryotae &lt;Bacteria&gt;</td>\n",
       "      <td>in-part</td>\n",
       "      <td>131567</td>\n",
       "      <td>superkingdom</td>\n",
       "    </tr>\n",
       "    <tr>\n",
       "      <th>7</th>\n",
       "      <td>2</td>\n",
       "      <td>bacteria</td>\n",
       "      <td>bacteria &lt;blast2&gt;</td>\n",
       "      <td>blast name</td>\n",
       "      <td>131567</td>\n",
       "      <td>superkingdom</td>\n",
       "    </tr>\n",
       "    <tr>\n",
       "      <th>8</th>\n",
       "      <td>2</td>\n",
       "      <td>eubacteria</td>\n",
       "      <td></td>\n",
       "      <td>genbank common name</td>\n",
       "      <td>131567</td>\n",
       "      <td>superkingdom</td>\n",
       "    </tr>\n",
       "    <tr>\n",
       "      <th>9</th>\n",
       "      <td>2</td>\n",
       "      <td>not Bacteria Haeckel 1894</td>\n",
       "      <td></td>\n",
       "      <td>synonym</td>\n",
       "      <td>131567</td>\n",
       "      <td>superkingdom</td>\n",
       "    </tr>\n",
       "  </tbody>\n",
       "</table>\n",
       "</div>"
      ],
      "text/plain": [
       "   tax_id                   name_txt             unique_name  \\\n",
       "0       1                        all                           \n",
       "1       1                       root                           \n",
       "2       2                   Bacteria   Bacteria <prokaryote>   \n",
       "3       2                     Monera       Monera <Bacteria>   \n",
       "4       2                Procaryotae  Procaryotae <Bacteria>   \n",
       "5       2                 Prokaryota   Prokaryota <Bacteria>   \n",
       "6       2                Prokaryotae  Prokaryotae <Bacteria>   \n",
       "7       2                   bacteria       bacteria <blast2>   \n",
       "8       2                 eubacteria                           \n",
       "9       2  not Bacteria Haeckel 1894                           \n",
       "\n",
       "            name_class  parent_tax_id          rank  \n",
       "0              synonym              1        norank  \n",
       "1      scientific name              1        norank  \n",
       "2      scientific name         131567  superkingdom  \n",
       "3              in-part         131567  superkingdom  \n",
       "4              in-part         131567  superkingdom  \n",
       "5              in-part         131567  superkingdom  \n",
       "6              in-part         131567  superkingdom  \n",
       "7           blast name         131567  superkingdom  \n",
       "8  genbank common name         131567  superkingdom  \n",
       "9              synonym         131567  superkingdom  "
      ]
     },
     "execution_count": 85,
     "metadata": {},
     "output_type": "execute_result"
    }
   ],
   "source": [
    "tab.head(n=10)"
   ]
  },
  {
   "cell_type": "code",
   "execution_count": null,
   "metadata": {
    "collapsed": true
   },
   "outputs": [],
   "source": [
    "conn.close()"
   ]
  }
 ],
 "metadata": {
  "kernelspec": {
   "display_name": "Python 3",
   "language": "python",
   "name": "python3"
  },
  "language_info": {
   "codemirror_mode": {
    "name": "ipython",
    "version": 3
   },
   "file_extension": ".py",
   "mimetype": "text/x-python",
   "name": "python",
   "nbconvert_exporter": "python",
   "pygments_lexer": "ipython3",
   "version": "3.6.3"
  }
 },
 "nbformat": 4,
 "nbformat_minor": 2
}
